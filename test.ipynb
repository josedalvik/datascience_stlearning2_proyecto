{
 "cells": [
  {
   "cell_type": "code",
   "execution_count": 12,
   "id": "420d7acd",
   "metadata": {},
   "outputs": [],
   "source": [
    "from data2.yolo_model import YOLO\n",
    "import cv2\n",
    "import numpy as np\n",
    "import random"
   ]
  },
  {
   "cell_type": "code",
   "execution_count": 2,
   "id": "635be051",
   "metadata": {},
   "outputs": [],
   "source": [
    "def process_image(img):\n",
    "    image = cv2.resize(img, (416, 416), interpolation=cv2.INTER_CUBIC)\n",
    "    image = np.array(image, dtype='float32')\n",
    "    image = image/255.\n",
    "    image = np.expand_dims(image, axis=0)\n",
    "    return image"
   ]
  },
  {
   "cell_type": "code",
   "execution_count": 3,
   "id": "23889c45",
   "metadata": {},
   "outputs": [],
   "source": [
    "def get_classes(file):\n",
    "    with open(file) as f:\n",
    "        class_names = f.readlines()\n",
    "    class_names = [c.strip() for c in class_names]\n",
    "    return class_names"
   ]
  },
  {
   "cell_type": "code",
   "execution_count": 39,
   "id": "91ea51bd",
   "metadata": {},
   "outputs": [],
   "source": [
    "def draw_boxes(image, boxes, scores, classes, all_classes):\n",
    "    for box, score, cl in zip(boxes, scores, classes):\n",
    "        x,y,w,h = box\n",
    "        \n",
    "        left = max(0, np.floor(x - 0.5).astype(int))\n",
    "        top = max(0, np.floor(y - 0.5).astype(int))\n",
    "        top_text = max(0, top-10)\n",
    "        right = min(image.shape[1], np.floor(x + w + 0.5).astype(int))\n",
    "        bottom = min(image.shape[0], np.floor(y + h + 0.5).astype(int))\n",
    "        \n",
    "        color = (random.randint(0, 255), random.randint(0, 255), random.randint(0, 255))\n",
    "        \n",
    "        cv2.rectangle(image, (left, top), (right, bottom), color, 6)\n",
    "        \n",
    "        cv2.putText(image, '{0} {1:.2f}'.format(all_classes[cl], score), \n",
    "                    (left, top_text), cv2.FONT_HERSHEY_SIMPLEX, 1, color, 1, cv2.LINE_AA)\n",
    "        \n",
    "        print('Clase {0}, probabilidad: {1:.2f}'.format(all_classes[cl], score))\n",
    "        print('Coordenadas y dimensión: x,y,w,h'.format(box))"
   ]
  },
  {
   "cell_type": "code",
   "execution_count": 5,
   "id": "ceadd1be",
   "metadata": {},
   "outputs": [],
   "source": [
    "def detect_image(image, yolo, all_classes):\n",
    "    p_image = process_image(image)\n",
    "    boxes, classes, score = yolo.predict(p_image, image.shape)\n",
    "    \n",
    "    if(boxes is not None):\n",
    "        draw_boxes(image, boxes, score, classes, all_classes)\n",
    "        \n",
    "    return image"
   ]
  },
  {
   "cell_type": "code",
   "execution_count": 35,
   "id": "c0169462",
   "metadata": {},
   "outputs": [
    {
     "name": "stdout",
     "output_type": "stream",
     "text": [
      "WARNING:tensorflow:No training configuration found in the save file, so the model was *not* compiled. Compile it manually.\n"
     ]
    }
   ],
   "source": [
    "yolo = YOLO(0.06, 0.5)\n",
    "all_classes = get_classes(\"data2/data/coco_classes.txt\")"
   ]
  },
  {
   "cell_type": "code",
   "execution_count": 7,
   "id": "c423a73b",
   "metadata": {},
   "outputs": [],
   "source": [
    "def predecir(imgStr):\n",
    "    ruta = 'data2/data/training_images/images/'+imgStr\n",
    "    print(ruta)\n",
    "    image = cv2.imread(ruta)\n",
    "    yoloImg = detect_image(image, yolo, all_classes)\n",
    "    cv2.imwrite(\"./data2/prediccion/\"+imgStr, yoloImg)"
   ]
  },
  {
   "cell_type": "code",
   "execution_count": 40,
   "id": "3519ac72",
   "metadata": {},
   "outputs": [
    {
     "name": "stdout",
     "output_type": "stream",
     "text": [
      "data2/data/training_images/images/vid_4_17160.jpg\n",
      "Clase car, probabilidad: 0.07\n",
      "Coordenadas y dimensión: x,y,w,h\n"
     ]
    }
   ],
   "source": [
    "predecir(\"vid_4_17160.jpg\")"
   ]
  }
 ],
 "metadata": {
  "kernelspec": {
   "display_name": "Python 3 (ipykernel)",
   "language": "python",
   "name": "python3"
  },
  "language_info": {
   "codemirror_mode": {
    "name": "ipython",
    "version": 3
   },
   "file_extension": ".py",
   "mimetype": "text/x-python",
   "name": "python",
   "nbconvert_exporter": "python",
   "pygments_lexer": "ipython3",
   "version": "3.9.12"
  }
 },
 "nbformat": 4,
 "nbformat_minor": 5
}
