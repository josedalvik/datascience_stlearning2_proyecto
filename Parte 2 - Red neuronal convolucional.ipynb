{
 "cells": [
  {
   "cell_type": "markdown",
   "id": "a831f867",
   "metadata": {},
   "source": [
    "# Identificación de carros con redes neuronales convolucionales\n",
    "\n",
    "Se utilizará un set de imágenes para detectar carros en una carretera.\n",
    "\n",
    "Dirección del set de datos: https://www.kaggle.com/datasets/sshikamaru/car-object-detection<br/>\n",
    "Cantidad de imágenes: 1178\n",
    "\n",
    "El objetivo de aprender redes neuronales convolucionales para detección de objetos es para poder continuar un proyecto personal\n",
    "que incluya radares Lidar."
   ]
  },
  {
   "cell_type": "markdown",
   "id": "c74770ae",
   "metadata": {},
   "source": [
    "# Librerías a utilizar en el proyecto"
   ]
  },
  {
   "cell_type": "code",
   "execution_count": 1,
   "id": "2dcdcce7",
   "metadata": {},
   "outputs": [],
   "source": [
    "import pandas as pd\n",
    "import numpy as np\n",
    "import os\n",
    "from sklearn.model_selection import train_test_split\n",
    "import matplotlib.pyplot as plt\n",
    "import matplotlib.patches as patches\n",
    "from PIL import Image\n",
    "from tensorflow.keras.utils import image_dataset_from_directory \n",
    "from tensorflow.keras.models import Model\n",
    "from tensorflow.keras.layers import Input, Conv2D, MaxPool2D, Dense, Flatten, Dropout\n",
    "from tensorflow.keras.optimizers import Adagrad\n",
    "from tensorflow.keras.callbacks import Callback, EarlyStopping, ModelCheckpoint\n",
    "from tensorflow.keras.initializers import GlorotNormal\n",
    "from tensorflow.keras.metrics import Recall, BinaryAccuracy, Precision\n",
    "from tensorflow.keras.losses import BinaryCrossentropy, MeanSquaredError\n",
    "import tensorflow as tf"
   ]
  },
  {
   "cell_type": "markdown",
   "id": "0f4e0a7b",
   "metadata": {},
   "source": [
    "Evita imprimir varios logs al momento de entrenar el modelo con Keras"
   ]
  },
  {
   "cell_type": "code",
   "execution_count": 2,
   "id": "7c5fb8b3",
   "metadata": {},
   "outputs": [],
   "source": [
    "from tqdm.keras import TqdmCallback"
   ]
  },
  {
   "cell_type": "markdown",
   "id": "d92cd5fa",
   "metadata": {},
   "source": [
    "# Carga de datos"
   ]
  },
  {
   "cell_type": "markdown",
   "id": "61aed7ce",
   "metadata": {},
   "source": [
    "El siguiente listado contiene que imagenes tienen un carro y las coordenadas en pixeles de donde se encuentra el carro."
   ]
  },
  {
   "cell_type": "code",
   "execution_count": 3,
   "id": "5d65bc67",
   "metadata": {},
   "outputs": [
    {
     "name": "stdout",
     "output_type": "stream",
     "text": [
      "Registros: 559\n"
     ]
    },
    {
     "data": {
      "text/html": [
       "<div>\n",
       "<style scoped>\n",
       "    .dataframe tbody tr th:only-of-type {\n",
       "        vertical-align: middle;\n",
       "    }\n",
       "\n",
       "    .dataframe tbody tr th {\n",
       "        vertical-align: top;\n",
       "    }\n",
       "\n",
       "    .dataframe thead th {\n",
       "        text-align: right;\n",
       "    }\n",
       "</style>\n",
       "<table border=\"1\" class=\"dataframe\">\n",
       "  <thead>\n",
       "    <tr style=\"text-align: right;\">\n",
       "      <th></th>\n",
       "      <th>image</th>\n",
       "      <th>xmin</th>\n",
       "      <th>ymin</th>\n",
       "      <th>xmax</th>\n",
       "      <th>ymax</th>\n",
       "    </tr>\n",
       "  </thead>\n",
       "  <tbody>\n",
       "    <tr>\n",
       "      <th>0</th>\n",
       "      <td>vid_4_1000.jpg</td>\n",
       "      <td>281.259045</td>\n",
       "      <td>187.035071</td>\n",
       "      <td>327.727931</td>\n",
       "      <td>223.225547</td>\n",
       "    </tr>\n",
       "    <tr>\n",
       "      <th>1</th>\n",
       "      <td>vid_4_10000.jpg</td>\n",
       "      <td>15.163531</td>\n",
       "      <td>187.035071</td>\n",
       "      <td>120.329957</td>\n",
       "      <td>236.430180</td>\n",
       "    </tr>\n",
       "    <tr>\n",
       "      <th>2</th>\n",
       "      <td>vid_4_10040.jpg</td>\n",
       "      <td>239.192475</td>\n",
       "      <td>176.764801</td>\n",
       "      <td>361.968162</td>\n",
       "      <td>236.430180</td>\n",
       "    </tr>\n",
       "    <tr>\n",
       "      <th>3</th>\n",
       "      <td>vid_4_10020.jpg</td>\n",
       "      <td>496.483358</td>\n",
       "      <td>172.363256</td>\n",
       "      <td>630.020260</td>\n",
       "      <td>231.539575</td>\n",
       "    </tr>\n",
       "    <tr>\n",
       "      <th>4</th>\n",
       "      <td>vid_4_10060.jpg</td>\n",
       "      <td>16.630970</td>\n",
       "      <td>186.546010</td>\n",
       "      <td>132.558611</td>\n",
       "      <td>238.386422</td>\n",
       "    </tr>\n",
       "  </tbody>\n",
       "</table>\n",
       "</div>"
      ],
      "text/plain": [
       "             image        xmin        ymin        xmax        ymax\n",
       "0   vid_4_1000.jpg  281.259045  187.035071  327.727931  223.225547\n",
       "1  vid_4_10000.jpg   15.163531  187.035071  120.329957  236.430180\n",
       "2  vid_4_10040.jpg  239.192475  176.764801  361.968162  236.430180\n",
       "3  vid_4_10020.jpg  496.483358  172.363256  630.020260  231.539575\n",
       "4  vid_4_10060.jpg   16.630970  186.546010  132.558611  238.386422"
      ]
     },
     "execution_count": 3,
     "metadata": {},
     "output_type": "execute_result"
    }
   ],
   "source": [
    "y_carros = pd.read_csv('data2/data/train_solution_bounding_boxes (1).csv') \n",
    "print(\"Registros:\", len(y_carros))\n",
    "y_carros.head()"
   ]
  },
  {
   "cell_type": "markdown",
   "id": "39363000",
   "metadata": {},
   "source": [
    "Tamaño de las imagenes"
   ]
  },
  {
   "cell_type": "code",
   "execution_count": 4,
   "id": "a1922350",
   "metadata": {},
   "outputs": [],
   "source": [
    "image_width = 676\n",
    "image_height = 380"
   ]
  },
  {
   "cell_type": "markdown",
   "id": "2f0c181c",
   "metadata": {},
   "source": [
    "Normalizando pixeles"
   ]
  },
  {
   "cell_type": "code",
   "execution_count": 5,
   "id": "f36d15da",
   "metadata": {},
   "outputs": [],
   "source": [
    "y_carros.xmin = y_carros.xmin / image_width\n",
    "y_carros.ymin = y_carros.ymin / image_height\n",
    "y_carros.xmax = y_carros.xmax / image_width\n",
    "y_carros.ymax = y_carros.ymax / image_height"
   ]
  },
  {
   "cell_type": "markdown",
   "id": "8ac9bfd6",
   "metadata": {},
   "source": [
    "Carga de imagenes para entrenamiento"
   ]
  },
  {
   "cell_type": "code",
   "execution_count": 6,
   "id": "884964aa",
   "metadata": {},
   "outputs": [
    {
     "name": "stdout",
     "output_type": "stream",
     "text": [
      "Registros: 1001\n"
     ]
    },
    {
     "data": {
      "text/html": [
       "<div>\n",
       "<style scoped>\n",
       "    .dataframe tbody tr th:only-of-type {\n",
       "        vertical-align: middle;\n",
       "    }\n",
       "\n",
       "    .dataframe tbody tr th {\n",
       "        vertical-align: top;\n",
       "    }\n",
       "\n",
       "    .dataframe thead th {\n",
       "        text-align: right;\n",
       "    }\n",
       "</style>\n",
       "<table border=\"1\" class=\"dataframe\">\n",
       "  <thead>\n",
       "    <tr style=\"text-align: right;\">\n",
       "      <th></th>\n",
       "      <th>image</th>\n",
       "    </tr>\n",
       "  </thead>\n",
       "  <tbody>\n",
       "    <tr>\n",
       "      <th>0</th>\n",
       "      <td>vid_4_1000.jpg</td>\n",
       "    </tr>\n",
       "    <tr>\n",
       "      <th>1</th>\n",
       "      <td>vid_4_10000.jpg</td>\n",
       "    </tr>\n",
       "    <tr>\n",
       "      <th>2</th>\n",
       "      <td>vid_4_10020.jpg</td>\n",
       "    </tr>\n",
       "    <tr>\n",
       "      <th>3</th>\n",
       "      <td>vid_4_10040.jpg</td>\n",
       "    </tr>\n",
       "    <tr>\n",
       "      <th>4</th>\n",
       "      <td>vid_4_10060.jpg</td>\n",
       "    </tr>\n",
       "  </tbody>\n",
       "</table>\n",
       "</div>"
      ],
      "text/plain": [
       "             image\n",
       "0   vid_4_1000.jpg\n",
       "1  vid_4_10000.jpg\n",
       "2  vid_4_10020.jpg\n",
       "3  vid_4_10040.jpg\n",
       "4  vid_4_10060.jpg"
      ]
     },
     "execution_count": 6,
     "metadata": {},
     "output_type": "execute_result"
    }
   ],
   "source": [
    "x_carros = pd.DataFrame({'image': os.listdir('data2/data/training_images/images/')})\n",
    "print(\"Registros:\", len(x_carros))\n",
    "x_carros.head()"
   ]
  },
  {
   "cell_type": "markdown",
   "id": "f31c0aff",
   "metadata": {},
   "source": [
    "Uniendo ambos set de datos."
   ]
  },
  {
   "cell_type": "code",
   "execution_count": 7,
   "id": "b0d48d92",
   "metadata": {},
   "outputs": [
    {
     "name": "stdout",
     "output_type": "stream",
     "text": [
      "Registros: 1205\n"
     ]
    },
    {
     "data": {
      "text/html": [
       "<div>\n",
       "<style scoped>\n",
       "    .dataframe tbody tr th:only-of-type {\n",
       "        vertical-align: middle;\n",
       "    }\n",
       "\n",
       "    .dataframe tbody tr th {\n",
       "        vertical-align: top;\n",
       "    }\n",
       "\n",
       "    .dataframe thead th {\n",
       "        text-align: right;\n",
       "    }\n",
       "</style>\n",
       "<table border=\"1\" class=\"dataframe\">\n",
       "  <thead>\n",
       "    <tr style=\"text-align: right;\">\n",
       "      <th></th>\n",
       "      <th>image</th>\n",
       "      <th>xmin</th>\n",
       "      <th>ymin</th>\n",
       "      <th>xmax</th>\n",
       "      <th>ymax</th>\n",
       "    </tr>\n",
       "  </thead>\n",
       "  <tbody>\n",
       "    <tr>\n",
       "      <th>0</th>\n",
       "      <td>vid_4_1000.jpg</td>\n",
       "      <td>0.416064</td>\n",
       "      <td>0.492198</td>\n",
       "      <td>0.484805</td>\n",
       "      <td>0.587436</td>\n",
       "    </tr>\n",
       "    <tr>\n",
       "      <th>1</th>\n",
       "      <td>vid_4_10000.jpg</td>\n",
       "      <td>0.022431</td>\n",
       "      <td>0.492198</td>\n",
       "      <td>0.178003</td>\n",
       "      <td>0.622185</td>\n",
       "    </tr>\n",
       "    <tr>\n",
       "      <th>2</th>\n",
       "      <td>vid_4_10020.jpg</td>\n",
       "      <td>0.734443</td>\n",
       "      <td>0.453588</td>\n",
       "      <td>0.931983</td>\n",
       "      <td>0.609315</td>\n",
       "    </tr>\n",
       "    <tr>\n",
       "      <th>3</th>\n",
       "      <td>vid_4_10040.jpg</td>\n",
       "      <td>0.353835</td>\n",
       "      <td>0.465171</td>\n",
       "      <td>0.535456</td>\n",
       "      <td>0.622185</td>\n",
       "    </tr>\n",
       "    <tr>\n",
       "      <th>4</th>\n",
       "      <td>vid_4_10060.jpg</td>\n",
       "      <td>0.024602</td>\n",
       "      <td>0.490911</td>\n",
       "      <td>0.196093</td>\n",
       "      <td>0.627333</td>\n",
       "    </tr>\n",
       "  </tbody>\n",
       "</table>\n",
       "</div>"
      ],
      "text/plain": [
       "             image      xmin      ymin      xmax      ymax\n",
       "0   vid_4_1000.jpg  0.416064  0.492198  0.484805  0.587436\n",
       "1  vid_4_10000.jpg  0.022431  0.492198  0.178003  0.622185\n",
       "2  vid_4_10020.jpg  0.734443  0.453588  0.931983  0.609315\n",
       "3  vid_4_10040.jpg  0.353835  0.465171  0.535456  0.622185\n",
       "4  vid_4_10060.jpg  0.024602  0.490911  0.196093  0.627333"
      ]
     },
     "execution_count": 7,
     "metadata": {},
     "output_type": "execute_result"
    }
   ],
   "source": [
    "carros = x_carros.merge(y_carros, how = 'left', on = ['image'])\n",
    "print(\"Registros:\", len(carros))\n",
    "carros.head()"
   ]
  },
  {
   "cell_type": "markdown",
   "id": "444484bc",
   "metadata": {},
   "source": [
    "Identificando por que el set de datos resultantes es mayor a las imagenes de entrenamiento:"
   ]
  },
  {
   "cell_type": "code",
   "execution_count": 8,
   "id": "1edbd10e",
   "metadata": {},
   "outputs": [
    {
     "data": {
      "text/plain": [
       "0      vid_4_12140.jpg\n",
       "1      vid_4_12160.jpg\n",
       "2      vid_4_12160.jpg\n",
       "3      vid_4_12180.jpg\n",
       "4      vid_4_12180.jpg\n",
       "            ...       \n",
       "199     vid_4_9640.jpg\n",
       "200     vid_4_9760.jpg\n",
       "201     vid_4_9760.jpg\n",
       "202     vid_4_9780.jpg\n",
       "203     vid_4_9800.jpg\n",
       "Name: image, Length: 204, dtype: object"
      ]
     },
     "execution_count": 8,
     "metadata": {},
     "output_type": "execute_result"
    }
   ],
   "source": [
    "carros_duplicados = carros[\"image\"]\n",
    "carros_duplicados = carros_duplicados[carros[\"image\"].duplicated()].reset_index(drop=True)\n",
    "carros_duplicados"
   ]
  },
  {
   "cell_type": "markdown",
   "id": "faec9566",
   "metadata": {},
   "source": [
    "Una imagen puede tener más de un carro:"
   ]
  },
  {
   "cell_type": "code",
   "execution_count": 9,
   "id": "ba7c3754",
   "metadata": {},
   "outputs": [
    {
     "data": {
      "text/html": [
       "<div>\n",
       "<style scoped>\n",
       "    .dataframe tbody tr th:only-of-type {\n",
       "        vertical-align: middle;\n",
       "    }\n",
       "\n",
       "    .dataframe tbody tr th {\n",
       "        vertical-align: top;\n",
       "    }\n",
       "\n",
       "    .dataframe thead th {\n",
       "        text-align: right;\n",
       "    }\n",
       "</style>\n",
       "<table border=\"1\" class=\"dataframe\">\n",
       "  <thead>\n",
       "    <tr style=\"text-align: right;\">\n",
       "      <th></th>\n",
       "      <th>image</th>\n",
       "      <th>xmin</th>\n",
       "      <th>ymin</th>\n",
       "      <th>xmax</th>\n",
       "      <th>ymax</th>\n",
       "    </tr>\n",
       "  </thead>\n",
       "  <tbody>\n",
       "    <tr>\n",
       "      <th>101</th>\n",
       "      <td>vid_4_12140.jpg</td>\n",
       "      <td>0.309696</td>\n",
       "      <td>0.485763</td>\n",
       "      <td>0.469609</td>\n",
       "      <td>0.592584</td>\n",
       "    </tr>\n",
       "    <tr>\n",
       "      <th>102</th>\n",
       "      <td>vid_4_12140.jpg</td>\n",
       "      <td>0.876266</td>\n",
       "      <td>0.445866</td>\n",
       "      <td>0.949349</td>\n",
       "      <td>0.553974</td>\n",
       "    </tr>\n",
       "  </tbody>\n",
       "</table>\n",
       "</div>"
      ],
      "text/plain": [
       "               image      xmin      ymin      xmax      ymax\n",
       "101  vid_4_12140.jpg  0.309696  0.485763  0.469609  0.592584\n",
       "102  vid_4_12140.jpg  0.876266  0.445866  0.949349  0.553974"
      ]
     },
     "execution_count": 9,
     "metadata": {},
     "output_type": "execute_result"
    }
   ],
   "source": [
    "ejemplo_duplicado = carros[carros[\"image\"] == carros_duplicados[0]]\n",
    "ejemplo_duplicado"
   ]
  },
  {
   "cell_type": "markdown",
   "id": "ad0bfd12",
   "metadata": {},
   "source": [
    "Función para graficar recuadros:"
   ]
  },
  {
   "cell_type": "code",
   "execution_count": 10,
   "id": "b58eef16",
   "metadata": {},
   "outputs": [],
   "source": [
    "def graficar_cuadros(ruta, coordenadas):\n",
    "    im = Image.open(ruta)\n",
    "\n",
    "    # Create figure and axes\n",
    "    fig, ax = plt.subplots()\n",
    "\n",
    "    # Display the image\n",
    "    ax.imshow(im)\n",
    "    \n",
    "    for row in coordenadas.iterrows():\n",
    "        # Create a Rectangle patch\n",
    "        xmin = row[1][\"xmin\"]*image_width\n",
    "        ymin = row[1][\"ymin\"]*image_height\n",
    "        xmax = row[1][\"xmax\"]*image_width\n",
    "        ymax = row[1][\"ymax\"]*image_height\n",
    "        width = xmax - xmin\n",
    "        height = ymax - ymin\n",
    "        rect = patches.Rectangle((xmin, ymin), width, height, linewidth=1, edgecolor='r', facecolor='none')\n",
    "        ax.add_patch(rect)\n",
    "\n",
    "    # Add the patch to the Axes\n",
    "    plt.show()"
   ]
  },
  {
   "cell_type": "markdown",
   "id": "7cba0ea4",
   "metadata": {},
   "source": [
    "Graficando los carros en la imagen:"
   ]
  },
  {
   "cell_type": "code",
   "execution_count": 11,
   "id": "2c2f087d",
   "metadata": {},
   "outputs": [
    {
     "data": {
      "image/png": "[encoded data removed]",
      "text/plain": [
       "<Figure size 432x288 with 1 Axes>"
      ]
     },
     "metadata": {
      "needs_background": "light"
     },
     "output_type": "display_data"
    }
   ],
   "source": [
    "ruta = 'data2/data/training_images/images/'+ejemplo_duplicado.iloc[0,0]\n",
    "coordenadas = ejemplo_duplicado.iloc[:,1:5]\n",
    "graficar_cuadros(ruta, coordenadas)"
   ]
  },
  {
   "cell_type": "markdown",
   "id": "efa02e5c",
   "metadata": {},
   "source": [
    "Para evitar duplicar registros para cada carro, se agregarán más columnas para registrar hasta 10 carros. El siguiente código agrega un registro de imagen una sola vez:"
   ]
  },
  {
   "cell_type": "code",
   "execution_count": 12,
   "id": "128463b1",
   "metadata": {},
   "outputs": [
    {
     "name": "stdout",
     "output_type": "stream",
     "text": [
      "Registros: 1001\n"
     ]
    },
    {
     "data": {
      "text/html": [
       "<div>\n",
       "<style scoped>\n",
       "    .dataframe tbody tr th:only-of-type {\n",
       "        vertical-align: middle;\n",
       "    }\n",
       "\n",
       "    .dataframe tbody tr th {\n",
       "        vertical-align: top;\n",
       "    }\n",
       "\n",
       "    .dataframe thead th {\n",
       "        text-align: right;\n",
       "    }\n",
       "</style>\n",
       "<table border=\"1\" class=\"dataframe\">\n",
       "  <thead>\n",
       "    <tr style=\"text-align: right;\">\n",
       "      <th></th>\n",
       "      <th>image</th>\n",
       "      <th>carros</th>\n",
       "      <th>xmin</th>\n",
       "      <th>ymin</th>\n",
       "      <th>xmax</th>\n",
       "      <th>ymax</th>\n",
       "    </tr>\n",
       "  </thead>\n",
       "  <tbody>\n",
       "    <tr>\n",
       "      <th>0</th>\n",
       "      <td>vid_4_1000.jpg</td>\n",
       "      <td>1</td>\n",
       "      <td>0.416064</td>\n",
       "      <td>0.492198</td>\n",
       "      <td>0.484805</td>\n",
       "      <td>0.587436</td>\n",
       "    </tr>\n",
       "    <tr>\n",
       "      <th>1</th>\n",
       "      <td>vid_4_10000.jpg</td>\n",
       "      <td>1</td>\n",
       "      <td>0.022431</td>\n",
       "      <td>0.492198</td>\n",
       "      <td>0.178003</td>\n",
       "      <td>0.622185</td>\n",
       "    </tr>\n",
       "    <tr>\n",
       "      <th>2</th>\n",
       "      <td>vid_4_10020.jpg</td>\n",
       "      <td>1</td>\n",
       "      <td>0.734443</td>\n",
       "      <td>0.453588</td>\n",
       "      <td>0.931983</td>\n",
       "      <td>0.609315</td>\n",
       "    </tr>\n",
       "    <tr>\n",
       "      <th>3</th>\n",
       "      <td>vid_4_10040.jpg</td>\n",
       "      <td>1</td>\n",
       "      <td>0.353835</td>\n",
       "      <td>0.465171</td>\n",
       "      <td>0.535456</td>\n",
       "      <td>0.622185</td>\n",
       "    </tr>\n",
       "    <tr>\n",
       "      <th>4</th>\n",
       "      <td>vid_4_10060.jpg</td>\n",
       "      <td>1</td>\n",
       "      <td>0.024602</td>\n",
       "      <td>0.490911</td>\n",
       "      <td>0.196093</td>\n",
       "      <td>0.627333</td>\n",
       "    </tr>\n",
       "  </tbody>\n",
       "</table>\n",
       "</div>"
      ],
      "text/plain": [
       "             image  carros      xmin      ymin      xmax      ymax\n",
       "0   vid_4_1000.jpg       1  0.416064  0.492198  0.484805  0.587436\n",
       "1  vid_4_10000.jpg       1  0.022431  0.492198  0.178003  0.622185\n",
       "2  vid_4_10020.jpg       1  0.734443  0.453588  0.931983  0.609315\n",
       "3  vid_4_10040.jpg       1  0.353835  0.465171  0.535456  0.622185\n",
       "4  vid_4_10060.jpg       1  0.024602  0.490911  0.196093  0.627333"
      ]
     },
     "execution_count": 12,
     "metadata": {},
     "output_type": "execute_result"
    }
   ],
   "source": [
    "carros_duplicados = y_carros[y_carros[\"image\"].duplicated()]\n",
    "carros_sin_duplicar = y_carros[y_carros[\"image\"].duplicated()==False]\n",
    "\n",
    "carros = x_carros.merge(carros_sin_duplicar, how = 'left', on = ['image'])\n",
    "carros.insert(1, 'carros', 1)\n",
    "\n",
    "sin_carros = carros[\"xmin\"].isnull()\n",
    "carros.loc[sin_carros, [\"carros\", \"xmin\", \"ymin\", \"xmax\", \"ymax\"]] = 0\n",
    "print(\"Registros:\", len(carros))\n",
    "carros.head()"
   ]
  },
  {
   "cell_type": "markdown",
   "id": "fdfab7fd",
   "metadata": {},
   "source": [
    "A conginuación se agregarán la cantidad necesarias de columnas para registrar las coordenadas de la maxima cantidad de carros en una imagen."
   ]
  },
  {
   "cell_type": "code",
   "execution_count": 13,
   "id": "c5e580da",
   "metadata": {},
   "outputs": [
    {
     "name": "stdout",
     "output_type": "stream",
     "text": [
      "Maxima repitencia: 7\n"
     ]
    },
    {
     "data": {
      "text/html": [
       "<div>\n",
       "<style scoped>\n",
       "    .dataframe tbody tr th:only-of-type {\n",
       "        vertical-align: middle;\n",
       "    }\n",
       "\n",
       "    .dataframe tbody tr th {\n",
       "        vertical-align: top;\n",
       "    }\n",
       "\n",
       "    .dataframe thead th {\n",
       "        text-align: right;\n",
       "    }\n",
       "</style>\n",
       "<table border=\"1\" class=\"dataframe\">\n",
       "  <thead>\n",
       "    <tr style=\"text-align: right;\">\n",
       "      <th></th>\n",
       "      <th>image</th>\n",
       "      <th>carros</th>\n",
       "      <th>xmin1</th>\n",
       "      <th>ymin1</th>\n",
       "      <th>xmax1</th>\n",
       "      <th>ymax1</th>\n",
       "      <th>xmin2</th>\n",
       "      <th>ymin2</th>\n",
       "      <th>xmax2</th>\n",
       "      <th>ymax2</th>\n",
       "      <th>...</th>\n",
       "      <th>xmax6</th>\n",
       "      <th>ymax6</th>\n",
       "      <th>xmin7</th>\n",
       "      <th>ymin7</th>\n",
       "      <th>xmax7</th>\n",
       "      <th>ymax7</th>\n",
       "      <th>xmin8</th>\n",
       "      <th>ymin8</th>\n",
       "      <th>xmax8</th>\n",
       "      <th>ymax8</th>\n",
       "    </tr>\n",
       "  </thead>\n",
       "  <tbody>\n",
       "    <tr>\n",
       "      <th>0</th>\n",
       "      <td>vid_4_1000.jpg</td>\n",
       "      <td>1</td>\n",
       "      <td>0.416064</td>\n",
       "      <td>0.492198</td>\n",
       "      <td>0.484805</td>\n",
       "      <td>0.587436</td>\n",
       "      <td>0</td>\n",
       "      <td>0</td>\n",
       "      <td>0</td>\n",
       "      <td>0</td>\n",
       "      <td>...</td>\n",
       "      <td>0</td>\n",
       "      <td>0</td>\n",
       "      <td>0</td>\n",
       "      <td>0</td>\n",
       "      <td>0</td>\n",
       "      <td>0</td>\n",
       "      <td>0</td>\n",
       "      <td>0</td>\n",
       "      <td>0</td>\n",
       "      <td>0</td>\n",
       "    </tr>\n",
       "    <tr>\n",
       "      <th>1</th>\n",
       "      <td>vid_4_10000.jpg</td>\n",
       "      <td>1</td>\n",
       "      <td>0.022431</td>\n",
       "      <td>0.492198</td>\n",
       "      <td>0.178003</td>\n",
       "      <td>0.622185</td>\n",
       "      <td>0</td>\n",
       "      <td>0</td>\n",
       "      <td>0</td>\n",
       "      <td>0</td>\n",
       "      <td>...</td>\n",
       "      <td>0</td>\n",
       "      <td>0</td>\n",
       "      <td>0</td>\n",
       "      <td>0</td>\n",
       "      <td>0</td>\n",
       "      <td>0</td>\n",
       "      <td>0</td>\n",
       "      <td>0</td>\n",
       "      <td>0</td>\n",
       "      <td>0</td>\n",
       "    </tr>\n",
       "    <tr>\n",
       "      <th>2</th>\n",
       "      <td>vid_4_10020.jpg</td>\n",
       "      <td>1</td>\n",
       "      <td>0.734443</td>\n",
       "      <td>0.453588</td>\n",
       "      <td>0.931983</td>\n",
       "      <td>0.609315</td>\n",
       "      <td>0</td>\n",
       "      <td>0</td>\n",
       "      <td>0</td>\n",
       "      <td>0</td>\n",
       "      <td>...</td>\n",
       "      <td>0</td>\n",
       "      <td>0</td>\n",
       "      <td>0</td>\n",
       "      <td>0</td>\n",
       "      <td>0</td>\n",
       "      <td>0</td>\n",
       "      <td>0</td>\n",
       "      <td>0</td>\n",
       "      <td>0</td>\n",
       "      <td>0</td>\n",
       "    </tr>\n",
       "    <tr>\n",
       "      <th>3</th>\n",
       "      <td>vid_4_10040.jpg</td>\n",
       "      <td>1</td>\n",
       "      <td>0.353835</td>\n",
       "      <td>0.465171</td>\n",
       "      <td>0.535456</td>\n",
       "      <td>0.622185</td>\n",
       "      <td>0</td>\n",
       "      <td>0</td>\n",
       "      <td>0</td>\n",
       "      <td>0</td>\n",
       "      <td>...</td>\n",
       "      <td>0</td>\n",
       "      <td>0</td>\n",
       "      <td>0</td>\n",
       "      <td>0</td>\n",
       "      <td>0</td>\n",
       "      <td>0</td>\n",
       "      <td>0</td>\n",
       "      <td>0</td>\n",
       "      <td>0</td>\n",
       "      <td>0</td>\n",
       "    </tr>\n",
       "    <tr>\n",
       "      <th>4</th>\n",
       "      <td>vid_4_10060.jpg</td>\n",
       "      <td>1</td>\n",
       "      <td>0.024602</td>\n",
       "      <td>0.490911</td>\n",
       "      <td>0.196093</td>\n",
       "      <td>0.627333</td>\n",
       "      <td>0</td>\n",
       "      <td>0</td>\n",
       "      <td>0</td>\n",
       "      <td>0</td>\n",
       "      <td>...</td>\n",
       "      <td>0</td>\n",
       "      <td>0</td>\n",
       "      <td>0</td>\n",
       "      <td>0</td>\n",
       "      <td>0</td>\n",
       "      <td>0</td>\n",
       "      <td>0</td>\n",
       "      <td>0</td>\n",
       "      <td>0</td>\n",
       "      <td>0</td>\n",
       "    </tr>\n",
       "  </tbody>\n",
       "</table>\n",
       "<p>5 rows × 34 columns</p>\n",
       "</div>"
      ],
      "text/plain": [
       "             image  carros     xmin1     ymin1     xmax1     ymax1  xmin2  \\\n",
       "0   vid_4_1000.jpg       1  0.416064  0.492198  0.484805  0.587436      0   \n",
       "1  vid_4_10000.jpg       1  0.022431  0.492198  0.178003  0.622185      0   \n",
       "2  vid_4_10020.jpg       1  0.734443  0.453588  0.931983  0.609315      0   \n",
       "3  vid_4_10040.jpg       1  0.353835  0.465171  0.535456  0.622185      0   \n",
       "4  vid_4_10060.jpg       1  0.024602  0.490911  0.196093  0.627333      0   \n",
       "\n",
       "   ymin2  xmax2  ymax2  ...  xmax6  ymax6  xmin7  ymin7  xmax7  ymax7  xmin8  \\\n",
       "0      0      0      0  ...      0      0      0      0      0      0      0   \n",
       "1      0      0      0  ...      0      0      0      0      0      0      0   \n",
       "2      0      0      0  ...      0      0      0      0      0      0      0   \n",
       "3      0      0      0  ...      0      0      0      0      0      0      0   \n",
       "4      0      0      0  ...      0      0      0      0      0      0      0   \n",
       "\n",
       "   ymin8  xmax8  ymax8  \n",
       "0      0      0      0  \n",
       "1      0      0      0  \n",
       "2      0      0      0  \n",
       "3      0      0      0  \n",
       "4      0      0      0  \n",
       "\n",
       "[5 rows x 34 columns]"
      ]
     },
     "execution_count": 13,
     "metadata": {},
     "output_type": "execute_result"
    }
   ],
   "source": [
    "maxima_repitencia = max(carros_duplicados.groupby('image').size()) + 1\n",
    "print(\"Maxima repitencia:\", maxima_repitencia)\n",
    "for i in range(2, maxima_repitencia + 2):\n",
    "    s = str(i)\n",
    "    carros.loc[:, [\"xmin\"+str(i), \"ymin\"+str(i), \"xmax\"+str(i), \"ymax\"+str(i)]] = 0\n",
    "carros = carros.rename(columns={\"xmin\": \"xmin1\", \"ymin\": \"ymin1\", \"xmax\": \"xmax1\", \"ymax\": \"ymax1\"})\n",
    "carros.head()"
   ]
  },
  {
   "cell_type": "markdown",
   "id": "935389c3",
   "metadata": {},
   "source": [
    "Se agregan los registros de coordenadas de donde hay más de un carro:"
   ]
  },
  {
   "cell_type": "code",
   "execution_count": 14,
   "id": "095ff865",
   "metadata": {},
   "outputs": [
    {
     "data": {
      "text/html": [
       "<div>\n",
       "<style scoped>\n",
       "    .dataframe tbody tr th:only-of-type {\n",
       "        vertical-align: middle;\n",
       "    }\n",
       "\n",
       "    .dataframe tbody tr th {\n",
       "        vertical-align: top;\n",
       "    }\n",
       "\n",
       "    .dataframe thead th {\n",
       "        text-align: right;\n",
       "    }\n",
       "</style>\n",
       "<table border=\"1\" class=\"dataframe\">\n",
       "  <thead>\n",
       "    <tr style=\"text-align: right;\">\n",
       "      <th></th>\n",
       "      <th>image</th>\n",
       "      <th>carros</th>\n",
       "      <th>xmin1</th>\n",
       "      <th>ymin1</th>\n",
       "      <th>xmax1</th>\n",
       "      <th>ymax1</th>\n",
       "      <th>xmin2</th>\n",
       "      <th>ymin2</th>\n",
       "      <th>xmax2</th>\n",
       "      <th>ymax2</th>\n",
       "      <th>...</th>\n",
       "      <th>xmax6</th>\n",
       "      <th>ymax6</th>\n",
       "      <th>xmin7</th>\n",
       "      <th>ymin7</th>\n",
       "      <th>xmax7</th>\n",
       "      <th>ymax7</th>\n",
       "      <th>xmin8</th>\n",
       "      <th>ymin8</th>\n",
       "      <th>xmax8</th>\n",
       "      <th>ymax8</th>\n",
       "    </tr>\n",
       "  </thead>\n",
       "  <tbody>\n",
       "    <tr>\n",
       "      <th>0</th>\n",
       "      <td>vid_4_1000.jpg</td>\n",
       "      <td>1</td>\n",
       "      <td>0.416064</td>\n",
       "      <td>0.492198</td>\n",
       "      <td>0.484805</td>\n",
       "      <td>0.587436</td>\n",
       "      <td>0.0</td>\n",
       "      <td>0.0</td>\n",
       "      <td>0.0</td>\n",
       "      <td>0.0</td>\n",
       "      <td>...</td>\n",
       "      <td>0.0</td>\n",
       "      <td>0.0</td>\n",
       "      <td>0.0</td>\n",
       "      <td>0.0</td>\n",
       "      <td>0.0</td>\n",
       "      <td>0.0</td>\n",
       "      <td>0</td>\n",
       "      <td>0</td>\n",
       "      <td>0</td>\n",
       "      <td>0</td>\n",
       "    </tr>\n",
       "    <tr>\n",
       "      <th>1</th>\n",
       "      <td>vid_4_10000.jpg</td>\n",
       "      <td>1</td>\n",
       "      <td>0.022431</td>\n",
       "      <td>0.492198</td>\n",
       "      <td>0.178003</td>\n",
       "      <td>0.622185</td>\n",
       "      <td>0.0</td>\n",
       "      <td>0.0</td>\n",
       "      <td>0.0</td>\n",
       "      <td>0.0</td>\n",
       "      <td>...</td>\n",
       "      <td>0.0</td>\n",
       "      <td>0.0</td>\n",
       "      <td>0.0</td>\n",
       "      <td>0.0</td>\n",
       "      <td>0.0</td>\n",
       "      <td>0.0</td>\n",
       "      <td>0</td>\n",
       "      <td>0</td>\n",
       "      <td>0</td>\n",
       "      <td>0</td>\n",
       "    </tr>\n",
       "    <tr>\n",
       "      <th>2</th>\n",
       "      <td>vid_4_10020.jpg</td>\n",
       "      <td>1</td>\n",
       "      <td>0.734443</td>\n",
       "      <td>0.453588</td>\n",
       "      <td>0.931983</td>\n",
       "      <td>0.609315</td>\n",
       "      <td>0.0</td>\n",
       "      <td>0.0</td>\n",
       "      <td>0.0</td>\n",
       "      <td>0.0</td>\n",
       "      <td>...</td>\n",
       "      <td>0.0</td>\n",
       "      <td>0.0</td>\n",
       "      <td>0.0</td>\n",
       "      <td>0.0</td>\n",
       "      <td>0.0</td>\n",
       "      <td>0.0</td>\n",
       "      <td>0</td>\n",
       "      <td>0</td>\n",
       "      <td>0</td>\n",
       "      <td>0</td>\n",
       "    </tr>\n",
       "    <tr>\n",
       "      <th>3</th>\n",
       "      <td>vid_4_10040.jpg</td>\n",
       "      <td>1</td>\n",
       "      <td>0.353835</td>\n",
       "      <td>0.465171</td>\n",
       "      <td>0.535456</td>\n",
       "      <td>0.622185</td>\n",
       "      <td>0.0</td>\n",
       "      <td>0.0</td>\n",
       "      <td>0.0</td>\n",
       "      <td>0.0</td>\n",
       "      <td>...</td>\n",
       "      <td>0.0</td>\n",
       "      <td>0.0</td>\n",
       "      <td>0.0</td>\n",
       "      <td>0.0</td>\n",
       "      <td>0.0</td>\n",
       "      <td>0.0</td>\n",
       "      <td>0</td>\n",
       "      <td>0</td>\n",
       "      <td>0</td>\n",
       "      <td>0</td>\n",
       "    </tr>\n",
       "    <tr>\n",
       "      <th>4</th>\n",
       "      <td>vid_4_10060.jpg</td>\n",
       "      <td>1</td>\n",
       "      <td>0.024602</td>\n",
       "      <td>0.490911</td>\n",
       "      <td>0.196093</td>\n",
       "      <td>0.627333</td>\n",
       "      <td>0.0</td>\n",
       "      <td>0.0</td>\n",
       "      <td>0.0</td>\n",
       "      <td>0.0</td>\n",
       "      <td>...</td>\n",
       "      <td>0.0</td>\n",
       "      <td>0.0</td>\n",
       "      <td>0.0</td>\n",
       "      <td>0.0</td>\n",
       "      <td>0.0</td>\n",
       "      <td>0.0</td>\n",
       "      <td>0</td>\n",
       "      <td>0</td>\n",
       "      <td>0</td>\n",
       "      <td>0</td>\n",
       "    </tr>\n",
       "  </tbody>\n",
       "</table>\n",
       "<p>5 rows × 34 columns</p>\n",
       "</div>"
      ],
      "text/plain": [
       "             image  carros     xmin1     ymin1     xmax1     ymax1  xmin2  \\\n",
       "0   vid_4_1000.jpg       1  0.416064  0.492198  0.484805  0.587436    0.0   \n",
       "1  vid_4_10000.jpg       1  0.022431  0.492198  0.178003  0.622185    0.0   \n",
       "2  vid_4_10020.jpg       1  0.734443  0.453588  0.931983  0.609315    0.0   \n",
       "3  vid_4_10040.jpg       1  0.353835  0.465171  0.535456  0.622185    0.0   \n",
       "4  vid_4_10060.jpg       1  0.024602  0.490911  0.196093  0.627333    0.0   \n",
       "\n",
       "   ymin2  xmax2  ymax2  ...  xmax6  ymax6  xmin7  ymin7  xmax7  ymax7  xmin8  \\\n",
       "0    0.0    0.0    0.0  ...    0.0    0.0    0.0    0.0    0.0    0.0      0   \n",
       "1    0.0    0.0    0.0  ...    0.0    0.0    0.0    0.0    0.0    0.0      0   \n",
       "2    0.0    0.0    0.0  ...    0.0    0.0    0.0    0.0    0.0    0.0      0   \n",
       "3    0.0    0.0    0.0  ...    0.0    0.0    0.0    0.0    0.0    0.0      0   \n",
       "4    0.0    0.0    0.0  ...    0.0    0.0    0.0    0.0    0.0    0.0      0   \n",
       "\n",
       "   ymin8  xmax8  ymax8  \n",
       "0      0      0      0  \n",
       "1      0      0      0  \n",
       "2      0      0      0  \n",
       "3      0      0      0  \n",
       "4      0      0      0  \n",
       "\n",
       "[5 rows x 34 columns]"
      ]
     },
     "execution_count": 14,
     "metadata": {},
     "output_type": "execute_result"
    }
   ],
   "source": [
    "for image in np.unique(carros_duplicados[\"image\"]):\n",
    "    registros_duplicados = carros_duplicados[carros_duplicados[\"image\"] == image]\n",
    "    carros_indice = np.array(carros[\"image\"] == image).argmax()\n",
    "    index = 2\n",
    "    for registro_duplicado in registros_duplicados.reset_index(drop=True).iterrows():\n",
    "        registro_duplicado = registro_duplicado[1]\n",
    "        carros.iloc[carros_indice, index*4-2] = registro_duplicado[\"xmin\"]\n",
    "        carros.iloc[carros_indice, index*4-1] = registro_duplicado[\"ymin\"]\n",
    "        carros.iloc[carros_indice, index*4] = registro_duplicado[\"xmax\"]\n",
    "        carros.iloc[carros_indice, index*4+1] = registro_duplicado[\"ymax\"]\n",
    "        index = index + 1\n",
    "carros.head()"
   ]
  },
  {
   "cell_type": "markdown",
   "id": "f5e37f60",
   "metadata": {},
   "source": [
    "Labels x y"
   ]
  },
  {
   "cell_type": "code",
   "execution_count": 15,
   "id": "fb92238c",
   "metadata": {},
   "outputs": [
    {
     "name": "stdout",
     "output_type": "stream",
     "text": [
      "Columnas X: ['image']\n",
      "Columnas Y: ['carros', 'xmin1', 'ymin1', 'xmax1', 'ymax1', 'xmin2', 'ymin2', 'xmax2', 'ymax2', 'xmin3', 'ymin3', 'xmax3', 'ymax3', 'xmin4', 'ymin4', 'xmax4', 'ymax4', 'xmin5', 'ymin5', 'xmax5', 'ymax5', 'xmin6', 'ymin6', 'xmax6', 'ymax6', 'xmin7', 'ymin7', 'xmax7', 'ymax7']\n"
     ]
    }
   ],
   "source": [
    "columnas_x = [\"image\"]\n",
    "columnas_y = [\"carros\", \"xmin1\", \"ymin1\", \"xmax1\", \"ymax1\"]\n",
    "for i in range(2, maxima_repitencia + 1):\n",
    "    s=str(i)\n",
    "    columnas_y.append(\"xmin\"+s)\n",
    "    columnas_y.append(\"ymin\"+s)\n",
    "    columnas_y.append(\"xmax\"+s)\n",
    "    columnas_y.append(\"ymax\"+s)\n",
    "print(\"Columnas X:\", columnas_x)\n",
    "print(\"Columnas Y:\", columnas_y)"
   ]
  },
  {
   "cell_type": "markdown",
   "id": "cbfaf9de",
   "metadata": {},
   "source": [
    "# Carga de imagnenes"
   ]
  },
  {
   "cell_type": "markdown",
   "id": "13439695",
   "metadata": {},
   "source": [
    "Cargando las imagnes"
   ]
  },
  {
   "cell_type": "code",
   "execution_count": 16,
   "id": "b3a54021",
   "metadata": {},
   "outputs": [],
   "source": [
    "list_ds = tf.data.Dataset.list_files(str('./data2/data/training_images/images/*'), shuffle=False)\n",
    "val_size = int(len(carros) * 0.2)\n",
    "train_ds = list_ds.skip(val_size)\n",
    "val_ds = list_ds.take(val_size)"
   ]
  },
  {
   "cell_type": "markdown",
   "id": "ebdc40e4",
   "metadata": {},
   "source": [
    "Obteniendo labels para entrenamiento y validación:"
   ]
  },
  {
   "cell_type": "code",
   "execution_count": 41,
   "id": "8b443b05",
   "metadata": {},
   "outputs": [],
   "source": [
    "apartar = int(len(carros)*0.2)+1\n",
    "validation_x = carros.loc[0:apartar,columnas_x].reset_index(drop=True)\n",
    "validation_y = carros.loc[0:apartar,columnas_y].reset_index(drop=True)\n",
    "train_x = carros.loc[apartar:(apartar+len(carros)),columnas_x].reset_index(drop=True)\n",
    "train_y = carros.loc[apartar:(apartar+len(carros)),columnas_y].reset_index(drop=True)"
   ]
  },
  {
   "cell_type": "markdown",
   "id": "e4d4038f",
   "metadata": {},
   "source": [
    "Convirtiendo labels a tensores:"
   ]
  },
  {
   "cell_type": "code",
   "execution_count": 18,
   "id": "95de8944",
   "metadata": {},
   "outputs": [],
   "source": [
    "validation_x = tf.convert_to_tensor(np.array(validation_x), dtype=tf.string)\n",
    "validation_y = tf.convert_to_tensor(np.array(validation_y), dtype=tf.float32) \n",
    "train_x = tf.convert_to_tensor(np.array(train_x), dtype=tf.string) \n",
    "train_y = tf.convert_to_tensor(np.array(train_y), dtype=tf.float32) "
   ]
  },
  {
   "cell_type": "markdown",
   "id": "9a20a64c",
   "metadata": {},
   "source": [
    "Decodificar y cargar imagenes:"
   ]
  },
  {
   "cell_type": "code",
   "execution_count": 19,
   "id": "db22af7c",
   "metadata": {},
   "outputs": [],
   "source": [
    "def decode_img(img):\n",
    "    img = tf.io.decode_jpeg(img, channels=3)\n",
    "    return tf.shape(img), tf.image.resize(img, [256, 256])\n",
    "\n",
    "#@tf.function\n",
    "def process_path(file_path, tf_x, tf_y):\n",
    "    img = tf.io.read_file(file_path)\n",
    "    shape, img = decode_img(img)\n",
    "    \n",
    "    parts = tf.strings.split(file_path, os.path.sep)\n",
    "    label = tf.gather(tf_y, tf.math.argmax(tf_x==parts[-1]))\n",
    "    \n",
    "    #logits = tf.TensorArray(tf.int32, size=maxima_repitencia*4)\n",
    "    #logits = tf.TensorArray(tf.float32, size=0, dynamic_size=True, clear_after_read=False)\n",
    "    #logits = tf.Variable(lambda: tf.zeros(maxima_repitencia*4, tf.float32))\n",
    "    \n",
    "    #Escalar coordenadas\n",
    "    #for i in range(0, maxima_repitencia):\n",
    "        #print(\"test\")\n",
    "        #logits.write(i*4, tf.math.divide(label[0,i*4+1],shape[0]))\n",
    "        #logits = logits.write(i*4, tf.math.divide(tf.cast(label[0,i*4+1], tf.float32), tf.cast(shape[0], tf.float32)))\n",
    "        #logits = logits.write(i*4+1, tf.math.divide(tf.cast(label[0,i*4+1], tf.float32), tf.cast(shape[0], tf.float32)))\n",
    "        #logits = logits.write(i*4+2, tf.math.divide(tf.cast(label[0,i*4+1], tf.float32), tf.cast(shape[0], tf.float32)))\n",
    "        #logits = logits.write(i*4+3, tf.math.divide(tf.cast(label[0,i*4+1], tf.float32), tf.cast(shape[0], tf.float32)))\n",
    "        \n",
    "        #label[0,i*4+1] = tf.math.divide(label[0,i*4+1],shape[0]) \n",
    "        #label[0,i*4+2] = tf.math.divide(label[0,i*4+2],shape[1])\n",
    "        #label[0,i*4+3] = tf.math.divide(label[0,i*4+3],shape[0])\n",
    "        #label[0,i*4+4] = tf.math.divide(label[0,i*4+4],shape[1])\n",
    "        \n",
    "        #logits[i*4].assign(tf.math.divide(tf.cast(label[0,i*4+1], tf.float32), tf.cast(shape[0], tf.float32)))\n",
    "        #logits[i*4+1].assign(tf.math.divide(tf.cast(label[0,i*4+2], tf.float32), tf.cast(shape[1], tf.float32)))\n",
    "        #logits[i*4+2].assign(tf.math.divide(tf.cast(label[0,i*4+3], tf.float32), tf.cast(shape[0], tf.float32)))\n",
    "        #logits[i*4+3].assign(tf.math.divide(tf.cast(label[0,i*4+4], tf.float32), tf.cast(shape[1], tf.float32)))\n",
    "        \n",
    "    return img, {\"has_car\":label[0,0], \"coordinates\":label[0,1:]}\n",
    "    #return img, {\"has_car\":label[0,0], \"coordinates\":logits}\n",
    "\n",
    "def process_path_train(file_path):\n",
    "    return process_path(file_path, train_x, train_y)\n",
    "\n",
    "def process_path_validation(file_path):\n",
    "    return process_path(file_path, validation_x, validation_y)\n",
    "\n",
    "train_ds = train_ds.map(process_path_train, num_parallel_calls=tf.data.experimental.AUTOTUNE)\n",
    "val_ds = val_ds.map(process_path_validation, num_parallel_calls=tf.data.experimental.AUTOTUNE)"
   ]
  },
  {
   "cell_type": "markdown",
   "id": "0159b938",
   "metadata": {},
   "source": [
    "Configuración de rendimiento"
   ]
  },
  {
   "cell_type": "code",
   "execution_count": 20,
   "id": "4c3c1729",
   "metadata": {},
   "outputs": [],
   "source": [
    "def configure_for_performance(ds):\n",
    "  ds = ds.cache()\n",
    "  ds = ds.shuffle(buffer_size=1000)\n",
    "  ds = ds.batch(32)\n",
    "  ds = ds.prefetch(buffer_size=tf.data.experimental.AUTOTUNE)\n",
    "  return ds\n",
    "\n",
    "train_ds = configure_for_performance(train_ds)\n",
    "val_ds = configure_for_performance(val_ds)"
   ]
  },
  {
   "cell_type": "markdown",
   "id": "e06e7511",
   "metadata": {},
   "source": [
    "# Modelo keras"
   ]
  },
  {
   "cell_type": "markdown",
   "id": "fea1bb13",
   "metadata": {},
   "source": [
    "## Proceso convolucional"
   ]
  },
  {
   "cell_type": "code",
   "execution_count": 37,
   "id": "4af29122",
   "metadata": {},
   "outputs": [],
   "source": [
    "input_layer = Input(shape=(256, 256, 3), name=\"input\")\n",
    "\n",
    "#primera capa convolucional\n",
    "capa_convolucional = Conv2D(filters=256, kernel_size=(3,3), name=\"conv\")(input_layer)\n",
    "\n",
    "#capa maxpooling\n",
    "capa_maxpooling = MaxPool2D(pool_size=(2,2), name=\"maxpool\")(capa_convolucional)\n",
    "\n",
    "#segunda capa convolucional\n",
    "segunda_capa_convoluiconal = Conv2D(filters=128, kernel_size=(3,3), activation='relu', name=\"conv2\")(capa_maxpooling)\n",
    "\n",
    "#segunda capa de maxpooling\n",
    "segunda_capa_maxpooling = MaxPool2D(pool_size=(2,2), name=\"maxpool2\")(segunda_capa_convoluiconal)\n",
    "\n",
    "#capa de flatten\n",
    "capa_flatten = Flatten(name=\"flatten\")(segunda_capa_maxpooling)"
   ]
  },
  {
   "cell_type": "markdown",
   "id": "139f07c5",
   "metadata": {},
   "source": [
    "## Optimizador"
   ]
  },
  {
   "cell_type": "code",
   "execution_count": 22,
   "id": "78263c37",
   "metadata": {},
   "outputs": [],
   "source": [
    "adagrad = Adagrad( learning_rate=0.01,\n",
    "    initial_accumulator_value=0.1,\n",
    "    epsilon=1e-07,\n",
    "    name=\"Adagrad\"\n",
    ")"
   ]
  },
  {
   "cell_type": "markdown",
   "id": "283e0654",
   "metadata": {},
   "source": [
    "## Custom callback"
   ]
  },
  {
   "cell_type": "code",
   "execution_count": 23,
   "id": "cd135c0d",
   "metadata": {},
   "outputs": [],
   "source": [
    "class custom_callback(Callback):\n",
    "    def __init__(self):\n",
    "        self.f1score = 0\n",
    "    \n",
    "    def get_f1score(self):\n",
    "        return self.f1score\n",
    "    \n",
    "    def set_f1score(self, recall, precision):\n",
    "        denominador = recall + precision\n",
    "        if( denominador == 0):\n",
    "            self.f1score = 0\n",
    "        else:\n",
    "            self.f1score = (2*(recall * precision) / denominador)\n",
    "    \n",
    "    def on_epoch_end(self, batch, logs=None):\n",
    "        recall = logs.get('recall')\n",
    "        accuracy = logs.get('accuracy')\n",
    "        precision = logs.get('precision')\n",
    "        self.set_f1score(recall, precision)\n",
    "        \n",
    "        if( accuracy > 0.95 ):\n",
    "            self.model.stop_training = True"
   ]
  },
  {
   "cell_type": "markdown",
   "id": "74657149",
   "metadata": {},
   "source": [
    "## Fase feedfoarward"
   ]
  },
  {
   "cell_type": "code",
   "execution_count": 38,
   "id": "d5c95495",
   "metadata": {},
   "outputs": [],
   "source": [
    "#Fase artificial\n",
    "capa_artificial = Dense(64, activation=\"relu\", kernel_initializer=GlorotNormal(), name=\"artificial\")(capa_flatten)\n",
    "capa_regularizacion = Dropout(0.1, input_shape=(64,), name=\"regularizacion\")(capa_artificial)\n",
    "segunda_capa_artificial = Dense(64, activation=\"relu\", kernel_initializer=GlorotNormal(), name=\"artificial2\")(capa_regularizacion)\n",
    "segunda_capa_regularizacion = Dropout(0.1, input_shape=(64,), name=\"regularizacion2\")(segunda_capa_artificial)\n",
    "\n",
    "#Salida\n",
    "binary_output = Dense(1, activation=\"softmax\", name=\"has_car\")(segunda_capa_regularizacion)\n",
    "regression_output = Dense(maxima_repitencia*4, activation=\"softmax\", name=\"coordinates\")(segunda_capa_regularizacion)\n",
    "output_array = [binary_output, regression_output]\n",
    "\n",
    "modelo = Model(inputs=input_layer, outputs=output_array, name=\"modelo\")\n",
    "\n",
    "callbacks_modelo = custom_callback()\n",
    "modelo.compile(\n",
    "    loss={\"has_car\":BinaryCrossentropy(from_logits=False), \"coordinates\":MeanSquaredError()}, \n",
    "    optimizer=adagrad, \n",
    "    metrics=[Recall(name=\"recall\"), BinaryAccuracy(name=\"accuracy\"), Precision(name=\"precision\")])"
   ]
  },
  {
   "cell_type": "code",
   "execution_count": 39,
   "id": "5e50714b",
   "metadata": {},
   "outputs": [
    {
     "data": {
      "application/vnd.jupyter.widget-view+json": {
       "model_id": "7ed6efc3387040baa78ee413384c42b5",
       "version_major": 2,
       "version_minor": 0
      },
      "text/plain": [
       "0epoch [00:00, ?epoch/s]"
      ]
     },
     "metadata": {},
     "output_type": "display_data"
    },
    {
     "data": {
      "application/vnd.jupyter.widget-view+json": {
       "model_id": "3ababd6a32fe4c2388c8cfa33d986206",
       "version_major": 2,
       "version_minor": 0
      },
      "text/plain": [
       "0batch [00:00, ?batch/s]"
      ]
     },
     "metadata": {},
     "output_type": "display_data"
    },
    {
     "name": "stdout",
     "output_type": "stream",
     "text": [
      "WARNING:tensorflow:Your input ran out of data; interrupting training. Make sure that your dataset or generator can generate at least `steps_per_epoch * epochs` batches (in this case, 640 batches). You may need to use the repeat() function when building your dataset.\n"
     ]
    },
    {
     "ename": "TypeError",
     "evalue": "unsupported operand type(s) for +: 'NoneType' and 'NoneType'",
     "output_type": "error",
     "traceback": [
      "\u001b[1;31m---------------------------------------------------------------------------\u001b[0m",
      "\u001b[1;31mTypeError\u001b[0m                                 Traceback (most recent call last)",
      "Input \u001b[1;32mIn [39]\u001b[0m, in \u001b[0;36m<cell line: 1>\u001b[1;34m()\u001b[0m\n\u001b[1;32m----> 1\u001b[0m historial \u001b[38;5;241m=\u001b[39m \u001b[43mmodelo\u001b[49m\u001b[38;5;241;43m.\u001b[39;49m\u001b[43mfit\u001b[49m\u001b[43m(\u001b[49m\n\u001b[0;32m      2\u001b[0m \u001b[43m    \u001b[49m\u001b[43mtrain_ds\u001b[49m\u001b[43m,\u001b[49m\u001b[43m \u001b[49m\n\u001b[0;32m      3\u001b[0m \u001b[43m    \u001b[49m\u001b[43mvalidation_data\u001b[49m\u001b[38;5;241;43m=\u001b[39;49m\u001b[43mval_ds\u001b[49m\u001b[43m,\u001b[49m\n\u001b[0;32m      4\u001b[0m \u001b[43m    \u001b[49m\u001b[43mepochs\u001b[49m\u001b[38;5;241;43m=\u001b[39;49m\u001b[38;5;241;43m20\u001b[39;49m\u001b[43m,\u001b[49m\n\u001b[0;32m      5\u001b[0m \u001b[43m    \u001b[49m\u001b[43msteps_per_epoch\u001b[49m\u001b[38;5;241;43m=\u001b[39;49m\u001b[38;5;241;43m32\u001b[39;49m\u001b[43m,\u001b[49m\u001b[43m \u001b[49m\n\u001b[0;32m      6\u001b[0m \u001b[43m    \u001b[49m\u001b[43mverbose\u001b[49m\u001b[38;5;241;43m=\u001b[39;49m\u001b[38;5;241;43m0\u001b[39;49m\u001b[43m,\u001b[49m\n\u001b[0;32m      7\u001b[0m \u001b[43m    \u001b[49m\u001b[43mcallbacks\u001b[49m\u001b[38;5;241;43m=\u001b[39;49m\u001b[43m[\u001b[49m\u001b[43mcallbacks_modelo\u001b[49m\u001b[43m,\u001b[49m\u001b[43m \u001b[49m\u001b[43mTqdmCallback\u001b[49m\u001b[43m(\u001b[49m\u001b[43mverbose\u001b[49m\u001b[38;5;241;43m=\u001b[39;49m\u001b[38;5;241;43m1\u001b[39;49m\u001b[43m)\u001b[49m\u001b[43m]\u001b[49m\u001b[43m)\u001b[49m\n",
      "File \u001b[1;32m~\\miniconda3\\envs\\tarea2\\lib\\site-packages\\keras\\engine\\training.py:1230\u001b[0m, in \u001b[0;36mModel.fit\u001b[1;34m(self, x, y, batch_size, epochs, verbose, callbacks, validation_split, validation_data, shuffle, class_weight, sample_weight, initial_epoch, steps_per_epoch, validation_steps, validation_batch_size, validation_freq, max_queue_size, workers, use_multiprocessing)\u001b[0m\n\u001b[0;32m   1227\u001b[0m   val_logs \u001b[38;5;241m=\u001b[39m {\u001b[38;5;124m'\u001b[39m\u001b[38;5;124mval_\u001b[39m\u001b[38;5;124m'\u001b[39m \u001b[38;5;241m+\u001b[39m name: val \u001b[38;5;28;01mfor\u001b[39;00m name, val \u001b[38;5;129;01min\u001b[39;00m val_logs\u001b[38;5;241m.\u001b[39mitems()}\n\u001b[0;32m   1228\u001b[0m   epoch_logs\u001b[38;5;241m.\u001b[39mupdate(val_logs)\n\u001b[1;32m-> 1230\u001b[0m \u001b[43mcallbacks\u001b[49m\u001b[38;5;241;43m.\u001b[39;49m\u001b[43mon_epoch_end\u001b[49m\u001b[43m(\u001b[49m\u001b[43mepoch\u001b[49m\u001b[43m,\u001b[49m\u001b[43m \u001b[49m\u001b[43mepoch_logs\u001b[49m\u001b[43m)\u001b[49m\n\u001b[0;32m   1231\u001b[0m training_logs \u001b[38;5;241m=\u001b[39m epoch_logs\n\u001b[0;32m   1232\u001b[0m \u001b[38;5;28;01mif\u001b[39;00m \u001b[38;5;28mself\u001b[39m\u001b[38;5;241m.\u001b[39mstop_training:\n",
      "File \u001b[1;32m~\\miniconda3\\envs\\tarea2\\lib\\site-packages\\keras\\callbacks.py:413\u001b[0m, in \u001b[0;36mCallbackList.on_epoch_end\u001b[1;34m(self, epoch, logs)\u001b[0m\n\u001b[0;32m    411\u001b[0m logs \u001b[38;5;241m=\u001b[39m \u001b[38;5;28mself\u001b[39m\u001b[38;5;241m.\u001b[39m_process_logs(logs)\n\u001b[0;32m    412\u001b[0m \u001b[38;5;28;01mfor\u001b[39;00m callback \u001b[38;5;129;01min\u001b[39;00m \u001b[38;5;28mself\u001b[39m\u001b[38;5;241m.\u001b[39mcallbacks:\n\u001b[1;32m--> 413\u001b[0m   \u001b[43mcallback\u001b[49m\u001b[38;5;241;43m.\u001b[39;49m\u001b[43mon_epoch_end\u001b[49m\u001b[43m(\u001b[49m\u001b[43mepoch\u001b[49m\u001b[43m,\u001b[49m\u001b[43m \u001b[49m\u001b[43mlogs\u001b[49m\u001b[43m)\u001b[49m\n",
      "Input \u001b[1;32mIn [23]\u001b[0m, in \u001b[0;36mcustom_callback.on_epoch_end\u001b[1;34m(self, batch, logs)\u001b[0m\n\u001b[0;32m     17\u001b[0m accuracy \u001b[38;5;241m=\u001b[39m logs\u001b[38;5;241m.\u001b[39mget(\u001b[38;5;124m'\u001b[39m\u001b[38;5;124maccuracy\u001b[39m\u001b[38;5;124m'\u001b[39m)\n\u001b[0;32m     18\u001b[0m precision \u001b[38;5;241m=\u001b[39m logs\u001b[38;5;241m.\u001b[39mget(\u001b[38;5;124m'\u001b[39m\u001b[38;5;124mprecision\u001b[39m\u001b[38;5;124m'\u001b[39m)\n\u001b[1;32m---> 19\u001b[0m \u001b[38;5;28;43mself\u001b[39;49m\u001b[38;5;241;43m.\u001b[39;49m\u001b[43mset_f1score\u001b[49m\u001b[43m(\u001b[49m\u001b[43mrecall\u001b[49m\u001b[43m,\u001b[49m\u001b[43m \u001b[49m\u001b[43mprecision\u001b[49m\u001b[43m)\u001b[49m\n\u001b[0;32m     21\u001b[0m \u001b[38;5;28;01mif\u001b[39;00m( accuracy \u001b[38;5;241m>\u001b[39m \u001b[38;5;241m0.95\u001b[39m ):\n\u001b[0;32m     22\u001b[0m     \u001b[38;5;28mself\u001b[39m\u001b[38;5;241m.\u001b[39mmodel\u001b[38;5;241m.\u001b[39mstop_training \u001b[38;5;241m=\u001b[39m \u001b[38;5;28;01mTrue\u001b[39;00m\n",
      "Input \u001b[1;32mIn [23]\u001b[0m, in \u001b[0;36mcustom_callback.set_f1score\u001b[1;34m(self, recall, precision)\u001b[0m\n\u001b[0;32m      8\u001b[0m \u001b[38;5;28;01mdef\u001b[39;00m \u001b[38;5;21mset_f1score\u001b[39m(\u001b[38;5;28mself\u001b[39m, recall, precision):\n\u001b[1;32m----> 9\u001b[0m     denominador \u001b[38;5;241m=\u001b[39m \u001b[43mrecall\u001b[49m\u001b[43m \u001b[49m\u001b[38;5;241;43m+\u001b[39;49m\u001b[43m \u001b[49m\u001b[43mprecision\u001b[49m\n\u001b[0;32m     10\u001b[0m     \u001b[38;5;28;01mif\u001b[39;00m( denominador \u001b[38;5;241m==\u001b[39m \u001b[38;5;241m0\u001b[39m):\n\u001b[0;32m     11\u001b[0m         \u001b[38;5;28mself\u001b[39m\u001b[38;5;241m.\u001b[39mf1score \u001b[38;5;241m=\u001b[39m \u001b[38;5;241m0\u001b[39m\n",
      "\u001b[1;31mTypeError\u001b[0m: unsupported operand type(s) for +: 'NoneType' and 'NoneType'"
     ]
    }
   ],
   "source": [
    "historial = modelo.fit(\n",
    "    train_ds, \n",
    "    validation_data=val_ds,\n",
    "    epochs=20,\n",
    "    steps_per_epoch=32, \n",
    "    verbose=0,\n",
    "    callbacks=[callbacks_modelo, TqdmCallback(verbose=1)])"
   ]
  }
 ],
 "metadata": {
  "kernelspec": {
   "display_name": "Python 3 (ipykernel)",
   "language": "python",
   "name": "python3"
  },
  "language_info": {
   "codemirror_mode": {
    "name": "ipython",
    "version": 3
   },
   "file_extension": ".py",
   "mimetype": "text/x-python",
   "name": "python",
   "nbconvert_exporter": "python",
   "pygments_lexer": "ipython3",
   "version": "3.9.12"
  }
 },
 "nbformat": 4,
 "nbformat_minor": 5
}
