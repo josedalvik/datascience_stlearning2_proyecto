{
 "cells": [
  {
   "cell_type": "markdown",
   "id": "46d01e83",
   "metadata": {},
   "source": [
    "# Clasificación de estrellas con redes neuronales feedforward\n",
    "\n",
    "Clasificación de objetos (estrella, galaxia o quasar) utilizando datos científicos obtenidos del observatorio Apache Point de Nuevo México. El set de datos forma parte del proyecto Sloan Digital Sky Survey SDSS y contiene información de características espectrales.\n",
    "\n",
    "Dirección del set de datos: https://www.kaggle.com/datasets/fedesoriano/stellar-classification-dataset-sdss17<br/>\n",
    "Cantidad de registros: 100,000<br/>\n",
    "\n",
    "Descripción de las columnas:\n",
    "\n",
    "<table>\n",
    "    <thead>\n",
    "        <tr>\n",
    "            <td>#</td>\n",
    "            <td>Columna</td>\n",
    "            <td>Descripción</td>\n",
    "        </tr>\n",
    "    </thead>\n",
    "    <tbody>\n",
    "        <tr>\n",
    "            <td>1</td>\n",
    "            <td>obj_ID</td>\n",
    "            <td>Object Identifier, the unique value that identifies the object in the image catalog used by the CAS.</td>\n",
    "        </tr>\n",
    "        <tr>\n",
    "            <td>2</td>\n",
    "            <td>alpha</td>\n",
    "            <td>Right Ascension angle (at J2000 epoch).</td>\n",
    "        </tr>\n",
    "        <tr>\n",
    "            <td>3</td>\n",
    "            <td>delta</td>\n",
    "            <td>Declination angle (at J2000 epoch).</td>\n",
    "        </tr>\n",
    "        <tr>\n",
    "            <td>4</td>\n",
    "            <td>u</td>\n",
    "            <td>Ultraviolet filter in the photometric system.</td>\n",
    "        </tr>\n",
    "        <tr>\n",
    "            <td>5</td>\n",
    "            <td>g</td>\n",
    "            <td>Green filter in the photometric system.</td>\n",
    "        </tr>\n",
    "        <tr>\n",
    "            <td>6</td>\n",
    "            <td>r</td>\n",
    "            <td>Red filter in the photometric system.</td>\n",
    "        </tr>\n",
    "        <tr>\n",
    "            <td>7</td>\n",
    "            <td>i</td>\n",
    "            <td>Near Infrared filter in the photometric system.</td>\n",
    "        </tr>\n",
    "        <tr>\n",
    "            <td>8</td>\n",
    "            <td>z</td>\n",
    "            <td>Infrared filter in the photometric system.</td>\n",
    "        </tr>\n",
    "        <tr>\n",
    "            <td>9</td>\n",
    "            <td>run_ID</td>\n",
    "            <td>Run Number used to identify the specific scan.</td>\n",
    "        </tr>\n",
    "        <tr>\n",
    "            <td>10</td>\n",
    "            <td>rereun_ID</td>\n",
    "            <td>Rerun Number to specify how the image was processed.</td>\n",
    "        </tr>\n",
    "        <tr>\n",
    "            <td>11</td>\n",
    "            <td>cam_col</td>\n",
    "            <td>Camera column to identify the scanline within the run.</td>\n",
    "        </tr>\n",
    "        <tr>\n",
    "            <td>12</td>\n",
    "            <td>field_ID</td>\n",
    "            <td>Field number to identify each field.</td>\n",
    "        </tr>\n",
    "        <tr>\n",
    "            <td>13</td>\n",
    "            <td>spec_obj_ID</td>\n",
    "            <td>Unique ID used for optical spectroscopic objects (this means that 2 different observations with the same spec_obj_ID must share the output class).</td>\n",
    "        </tr>\n",
    "        <tr>\n",
    "            <td>14</td>\n",
    "            <td>class</td>\n",
    "            <td>Object class (galaxy, star or quasar object).</td>\n",
    "        </tr>\n",
    "        <tr>\n",
    "            <td>15</td>\n",
    "            <td>redshift</td>\n",
    "            <td>Redshift value based on the increase in wavelength.</td>\n",
    "        </tr>\n",
    "        <tr>\n",
    "            <td>16</td>\n",
    "            <td>plate</td>\n",
    "            <td>Plate ID, identifies each plate in SDSS.</td>\n",
    "        </tr>\n",
    "        <tr>\n",
    "            <td>17</td>\n",
    "            <td>MJD</td>\n",
    "            <td>Modified Julian Date, used to indicate when a given piece of SDSS data was taken.</td>\n",
    "        </tr>\n",
    "        <tr>\n",
    "            <td>18</td>\n",
    "            <td>fiber_ID</td>\n",
    "            <td>Fiber ID that identifies the fiber that pointed the light at the focal plane in each observation.</td>\n",
    "        </tr>\n",
    "    </tbody>\n",
    "</table>\n"
   ]
  },
  {
   "cell_type": "markdown",
   "id": "902ba716",
   "metadata": {},
   "source": [
    "# Librerías a utilizar en el proyecto"
   ]
  },
  {
   "cell_type": "code",
   "execution_count": 1,
   "id": "df2c845f",
   "metadata": {},
   "outputs": [],
   "source": [
    "import pandas as pd\n",
    "import numpy as np\n",
    "from sklearn.model_selection import train_test_split\n",
    "from tensorflow.keras.models import Sequential\n",
    "from tensorflow.keras.layers import Dense, Dropout, LeakyReLU\n",
    "from tensorflow.keras.optimizers import Adagrad\n",
    "from tensorflow.keras.metrics import Recall, BinaryAccuracy, Precision\n",
    "from tensorflow.keras.callbacks import Callback\n",
    "from tensorflow.keras.initializers import GlorotNormal"
   ]
  },
  {
   "cell_type": "markdown",
   "id": "1045544f",
   "metadata": {},
   "source": [
    "Evita imprimir varios logs al momento de entrenar el modelo con Keras"
   ]
  },
  {
   "cell_type": "code",
   "execution_count": 2,
   "id": "2c068513",
   "metadata": {},
   "outputs": [],
   "source": [
    "from tqdm.keras import TqdmCallback"
   ]
  },
  {
   "cell_type": "markdown",
   "id": "b577e5f6",
   "metadata": {},
   "source": [
    "# Análisis de datos"
   ]
  },
  {
   "cell_type": "markdown",
   "id": "54c68d76",
   "metadata": {},
   "source": [
    "Cargando set de datos"
   ]
  },
  {
   "cell_type": "code",
   "execution_count": 3,
   "id": "d6437557",
   "metadata": {},
   "outputs": [
    {
     "data": {
      "text/html": [
       "<div>\n",
       "<style scoped>\n",
       "    .dataframe tbody tr th:only-of-type {\n",
       "        vertical-align: middle;\n",
       "    }\n",
       "\n",
       "    .dataframe tbody tr th {\n",
       "        vertical-align: top;\n",
       "    }\n",
       "\n",
       "    .dataframe thead th {\n",
       "        text-align: right;\n",
       "    }\n",
       "</style>\n",
       "<table border=\"1\" class=\"dataframe\">\n",
       "  <thead>\n",
       "    <tr style=\"text-align: right;\">\n",
       "      <th></th>\n",
       "      <th>obj_ID</th>\n",
       "      <th>alpha</th>\n",
       "      <th>delta</th>\n",
       "      <th>u</th>\n",
       "      <th>g</th>\n",
       "      <th>r</th>\n",
       "      <th>i</th>\n",
       "      <th>z</th>\n",
       "      <th>run_ID</th>\n",
       "      <th>rerun_ID</th>\n",
       "      <th>cam_col</th>\n",
       "      <th>field_ID</th>\n",
       "      <th>spec_obj_ID</th>\n",
       "      <th>class</th>\n",
       "      <th>redshift</th>\n",
       "      <th>plate</th>\n",
       "      <th>MJD</th>\n",
       "      <th>fiber_ID</th>\n",
       "    </tr>\n",
       "  </thead>\n",
       "  <tbody>\n",
       "    <tr>\n",
       "      <th>0</th>\n",
       "      <td>1.237661e+18</td>\n",
       "      <td>135.689107</td>\n",
       "      <td>32.494632</td>\n",
       "      <td>23.87882</td>\n",
       "      <td>22.27530</td>\n",
       "      <td>20.39501</td>\n",
       "      <td>19.16573</td>\n",
       "      <td>18.79371</td>\n",
       "      <td>3606</td>\n",
       "      <td>301</td>\n",
       "      <td>2</td>\n",
       "      <td>79</td>\n",
       "      <td>6.543777e+18</td>\n",
       "      <td>GALAXY</td>\n",
       "      <td>0.634794</td>\n",
       "      <td>5812</td>\n",
       "      <td>56354</td>\n",
       "      <td>171</td>\n",
       "    </tr>\n",
       "    <tr>\n",
       "      <th>1</th>\n",
       "      <td>1.237665e+18</td>\n",
       "      <td>144.826101</td>\n",
       "      <td>31.274185</td>\n",
       "      <td>24.77759</td>\n",
       "      <td>22.83188</td>\n",
       "      <td>22.58444</td>\n",
       "      <td>21.16812</td>\n",
       "      <td>21.61427</td>\n",
       "      <td>4518</td>\n",
       "      <td>301</td>\n",
       "      <td>5</td>\n",
       "      <td>119</td>\n",
       "      <td>1.176014e+19</td>\n",
       "      <td>GALAXY</td>\n",
       "      <td>0.779136</td>\n",
       "      <td>10445</td>\n",
       "      <td>58158</td>\n",
       "      <td>427</td>\n",
       "    </tr>\n",
       "    <tr>\n",
       "      <th>2</th>\n",
       "      <td>1.237661e+18</td>\n",
       "      <td>142.188790</td>\n",
       "      <td>35.582444</td>\n",
       "      <td>25.26307</td>\n",
       "      <td>22.66389</td>\n",
       "      <td>20.60976</td>\n",
       "      <td>19.34857</td>\n",
       "      <td>18.94827</td>\n",
       "      <td>3606</td>\n",
       "      <td>301</td>\n",
       "      <td>2</td>\n",
       "      <td>120</td>\n",
       "      <td>5.152200e+18</td>\n",
       "      <td>GALAXY</td>\n",
       "      <td>0.644195</td>\n",
       "      <td>4576</td>\n",
       "      <td>55592</td>\n",
       "      <td>299</td>\n",
       "    </tr>\n",
       "    <tr>\n",
       "      <th>3</th>\n",
       "      <td>1.237663e+18</td>\n",
       "      <td>338.741038</td>\n",
       "      <td>-0.402828</td>\n",
       "      <td>22.13682</td>\n",
       "      <td>23.77656</td>\n",
       "      <td>21.61162</td>\n",
       "      <td>20.50454</td>\n",
       "      <td>19.25010</td>\n",
       "      <td>4192</td>\n",
       "      <td>301</td>\n",
       "      <td>3</td>\n",
       "      <td>214</td>\n",
       "      <td>1.030107e+19</td>\n",
       "      <td>GALAXY</td>\n",
       "      <td>0.932346</td>\n",
       "      <td>9149</td>\n",
       "      <td>58039</td>\n",
       "      <td>775</td>\n",
       "    </tr>\n",
       "    <tr>\n",
       "      <th>4</th>\n",
       "      <td>1.237680e+18</td>\n",
       "      <td>345.282593</td>\n",
       "      <td>21.183866</td>\n",
       "      <td>19.43718</td>\n",
       "      <td>17.58028</td>\n",
       "      <td>16.49747</td>\n",
       "      <td>15.97711</td>\n",
       "      <td>15.54461</td>\n",
       "      <td>8102</td>\n",
       "      <td>301</td>\n",
       "      <td>3</td>\n",
       "      <td>137</td>\n",
       "      <td>6.891865e+18</td>\n",
       "      <td>GALAXY</td>\n",
       "      <td>0.116123</td>\n",
       "      <td>6121</td>\n",
       "      <td>56187</td>\n",
       "      <td>842</td>\n",
       "    </tr>\n",
       "  </tbody>\n",
       "</table>\n",
       "</div>"
      ],
      "text/plain": [
       "         obj_ID       alpha      delta         u         g         r  \\\n",
       "0  1.237661e+18  135.689107  32.494632  23.87882  22.27530  20.39501   \n",
       "1  1.237665e+18  144.826101  31.274185  24.77759  22.83188  22.58444   \n",
       "2  1.237661e+18  142.188790  35.582444  25.26307  22.66389  20.60976   \n",
       "3  1.237663e+18  338.741038  -0.402828  22.13682  23.77656  21.61162   \n",
       "4  1.237680e+18  345.282593  21.183866  19.43718  17.58028  16.49747   \n",
       "\n",
       "          i         z  run_ID  rerun_ID  cam_col  field_ID   spec_obj_ID  \\\n",
       "0  19.16573  18.79371    3606       301        2        79  6.543777e+18   \n",
       "1  21.16812  21.61427    4518       301        5       119  1.176014e+19   \n",
       "2  19.34857  18.94827    3606       301        2       120  5.152200e+18   \n",
       "3  20.50454  19.25010    4192       301        3       214  1.030107e+19   \n",
       "4  15.97711  15.54461    8102       301        3       137  6.891865e+18   \n",
       "\n",
       "    class  redshift  plate    MJD  fiber_ID  \n",
       "0  GALAXY  0.634794   5812  56354       171  \n",
       "1  GALAXY  0.779136  10445  58158       427  \n",
       "2  GALAXY  0.644195   4576  55592       299  \n",
       "3  GALAXY  0.932346   9149  58039       775  \n",
       "4  GALAXY  0.116123   6121  56187       842  "
      ]
     },
     "execution_count": 3,
     "metadata": {},
     "output_type": "execute_result"
    }
   ],
   "source": [
    "star_classification = pd.read_csv('data1/star_classification.csv') \n",
    "star_classification.head()"
   ]
  },
  {
   "cell_type": "markdown",
   "id": "45088db9",
   "metadata": {},
   "source": [
    "Según la descripción de los datos, las siguientes columnas no aportan valor para el entrenamiento:\n",
    "\n",
    "<ul>\n",
    "    <li>obj_ID</li>\n",
    "    <li>run_ID</li>\n",
    "    <li>rerun_ID</li>\n",
    "    <li>cam_col</li>\n",
    "    <li>field_ID</li>\n",
    "    <li>spec_obj_ID</li>\n",
    "    <li>plate</li>\n",
    "    <li>MJD</li>\n",
    "    <li>fiber_ID</li>\n",
    "</ul>"
   ]
  },
  {
   "cell_type": "code",
   "execution_count": 4,
   "id": "91c3b230",
   "metadata": {},
   "outputs": [
    {
     "data": {
      "text/html": [
       "<div>\n",
       "<style scoped>\n",
       "    .dataframe tbody tr th:only-of-type {\n",
       "        vertical-align: middle;\n",
       "    }\n",
       "\n",
       "    .dataframe tbody tr th {\n",
       "        vertical-align: top;\n",
       "    }\n",
       "\n",
       "    .dataframe thead th {\n",
       "        text-align: right;\n",
       "    }\n",
       "</style>\n",
       "<table border=\"1\" class=\"dataframe\">\n",
       "  <thead>\n",
       "    <tr style=\"text-align: right;\">\n",
       "      <th></th>\n",
       "      <th>alpha</th>\n",
       "      <th>delta</th>\n",
       "      <th>u</th>\n",
       "      <th>g</th>\n",
       "      <th>r</th>\n",
       "      <th>i</th>\n",
       "      <th>z</th>\n",
       "      <th>class</th>\n",
       "      <th>redshift</th>\n",
       "    </tr>\n",
       "  </thead>\n",
       "  <tbody>\n",
       "    <tr>\n",
       "      <th>0</th>\n",
       "      <td>135.689107</td>\n",
       "      <td>32.494632</td>\n",
       "      <td>23.87882</td>\n",
       "      <td>22.27530</td>\n",
       "      <td>20.39501</td>\n",
       "      <td>19.16573</td>\n",
       "      <td>18.79371</td>\n",
       "      <td>GALAXY</td>\n",
       "      <td>0.634794</td>\n",
       "    </tr>\n",
       "    <tr>\n",
       "      <th>1</th>\n",
       "      <td>144.826101</td>\n",
       "      <td>31.274185</td>\n",
       "      <td>24.77759</td>\n",
       "      <td>22.83188</td>\n",
       "      <td>22.58444</td>\n",
       "      <td>21.16812</td>\n",
       "      <td>21.61427</td>\n",
       "      <td>GALAXY</td>\n",
       "      <td>0.779136</td>\n",
       "    </tr>\n",
       "    <tr>\n",
       "      <th>2</th>\n",
       "      <td>142.188790</td>\n",
       "      <td>35.582444</td>\n",
       "      <td>25.26307</td>\n",
       "      <td>22.66389</td>\n",
       "      <td>20.60976</td>\n",
       "      <td>19.34857</td>\n",
       "      <td>18.94827</td>\n",
       "      <td>GALAXY</td>\n",
       "      <td>0.644195</td>\n",
       "    </tr>\n",
       "    <tr>\n",
       "      <th>3</th>\n",
       "      <td>338.741038</td>\n",
       "      <td>-0.402828</td>\n",
       "      <td>22.13682</td>\n",
       "      <td>23.77656</td>\n",
       "      <td>21.61162</td>\n",
       "      <td>20.50454</td>\n",
       "      <td>19.25010</td>\n",
       "      <td>GALAXY</td>\n",
       "      <td>0.932346</td>\n",
       "    </tr>\n",
       "    <tr>\n",
       "      <th>4</th>\n",
       "      <td>345.282593</td>\n",
       "      <td>21.183866</td>\n",
       "      <td>19.43718</td>\n",
       "      <td>17.58028</td>\n",
       "      <td>16.49747</td>\n",
       "      <td>15.97711</td>\n",
       "      <td>15.54461</td>\n",
       "      <td>GALAXY</td>\n",
       "      <td>0.116123</td>\n",
       "    </tr>\n",
       "  </tbody>\n",
       "</table>\n",
       "</div>"
      ],
      "text/plain": [
       "        alpha      delta         u         g         r         i         z  \\\n",
       "0  135.689107  32.494632  23.87882  22.27530  20.39501  19.16573  18.79371   \n",
       "1  144.826101  31.274185  24.77759  22.83188  22.58444  21.16812  21.61427   \n",
       "2  142.188790  35.582444  25.26307  22.66389  20.60976  19.34857  18.94827   \n",
       "3  338.741038  -0.402828  22.13682  23.77656  21.61162  20.50454  19.25010   \n",
       "4  345.282593  21.183866  19.43718  17.58028  16.49747  15.97711  15.54461   \n",
       "\n",
       "    class  redshift  \n",
       "0  GALAXY  0.634794  \n",
       "1  GALAXY  0.779136  \n",
       "2  GALAXY  0.644195  \n",
       "3  GALAXY  0.932346  \n",
       "4  GALAXY  0.116123  "
      ]
     },
     "execution_count": 4,
     "metadata": {},
     "output_type": "execute_result"
    }
   ],
   "source": [
    "star_classification = star_classification.drop(\n",
    "    columns=['obj_ID', 'run_ID', 'rerun_ID', 'cam_col', 'field_ID', 'spec_obj_ID', 'plate', 'MJD', 'fiber_ID'])\n",
    "star_classification.head()"
   ]
  },
  {
   "cell_type": "markdown",
   "id": "b5b83956",
   "metadata": {},
   "source": [
    "# Tratamiento de datos"
   ]
  },
  {
   "cell_type": "markdown",
   "id": "f3fdd8b5",
   "metadata": {},
   "source": [
    "One hot encoding para variable categórica"
   ]
  },
  {
   "cell_type": "code",
   "execution_count": 5,
   "id": "0e877182",
   "metadata": {},
   "outputs": [
    {
     "data": {
      "text/html": [
       "<div>\n",
       "<style scoped>\n",
       "    .dataframe tbody tr th:only-of-type {\n",
       "        vertical-align: middle;\n",
       "    }\n",
       "\n",
       "    .dataframe tbody tr th {\n",
       "        vertical-align: top;\n",
       "    }\n",
       "\n",
       "    .dataframe thead th {\n",
       "        text-align: right;\n",
       "    }\n",
       "</style>\n",
       "<table border=\"1\" class=\"dataframe\">\n",
       "  <thead>\n",
       "    <tr style=\"text-align: right;\">\n",
       "      <th></th>\n",
       "      <th>alpha</th>\n",
       "      <th>delta</th>\n",
       "      <th>u</th>\n",
       "      <th>g</th>\n",
       "      <th>r</th>\n",
       "      <th>i</th>\n",
       "      <th>z</th>\n",
       "      <th>redshift</th>\n",
       "    </tr>\n",
       "  </thead>\n",
       "  <tbody>\n",
       "    <tr>\n",
       "      <th>0</th>\n",
       "      <td>135.689107</td>\n",
       "      <td>32.494632</td>\n",
       "      <td>23.87882</td>\n",
       "      <td>22.27530</td>\n",
       "      <td>20.39501</td>\n",
       "      <td>19.16573</td>\n",
       "      <td>18.79371</td>\n",
       "      <td>0.634794</td>\n",
       "    </tr>\n",
       "    <tr>\n",
       "      <th>1</th>\n",
       "      <td>144.826101</td>\n",
       "      <td>31.274185</td>\n",
       "      <td>24.77759</td>\n",
       "      <td>22.83188</td>\n",
       "      <td>22.58444</td>\n",
       "      <td>21.16812</td>\n",
       "      <td>21.61427</td>\n",
       "      <td>0.779136</td>\n",
       "    </tr>\n",
       "    <tr>\n",
       "      <th>2</th>\n",
       "      <td>142.188790</td>\n",
       "      <td>35.582444</td>\n",
       "      <td>25.26307</td>\n",
       "      <td>22.66389</td>\n",
       "      <td>20.60976</td>\n",
       "      <td>19.34857</td>\n",
       "      <td>18.94827</td>\n",
       "      <td>0.644195</td>\n",
       "    </tr>\n",
       "    <tr>\n",
       "      <th>3</th>\n",
       "      <td>338.741038</td>\n",
       "      <td>-0.402828</td>\n",
       "      <td>22.13682</td>\n",
       "      <td>23.77656</td>\n",
       "      <td>21.61162</td>\n",
       "      <td>20.50454</td>\n",
       "      <td>19.25010</td>\n",
       "      <td>0.932346</td>\n",
       "    </tr>\n",
       "    <tr>\n",
       "      <th>4</th>\n",
       "      <td>345.282593</td>\n",
       "      <td>21.183866</td>\n",
       "      <td>19.43718</td>\n",
       "      <td>17.58028</td>\n",
       "      <td>16.49747</td>\n",
       "      <td>15.97711</td>\n",
       "      <td>15.54461</td>\n",
       "      <td>0.116123</td>\n",
       "    </tr>\n",
       "  </tbody>\n",
       "</table>\n",
       "</div>"
      ],
      "text/plain": [
       "        alpha      delta         u         g         r         i         z  \\\n",
       "0  135.689107  32.494632  23.87882  22.27530  20.39501  19.16573  18.79371   \n",
       "1  144.826101  31.274185  24.77759  22.83188  22.58444  21.16812  21.61427   \n",
       "2  142.188790  35.582444  25.26307  22.66389  20.60976  19.34857  18.94827   \n",
       "3  338.741038  -0.402828  22.13682  23.77656  21.61162  20.50454  19.25010   \n",
       "4  345.282593  21.183866  19.43718  17.58028  16.49747  15.97711  15.54461   \n",
       "\n",
       "   redshift  \n",
       "0  0.634794  \n",
       "1  0.779136  \n",
       "2  0.644195  \n",
       "3  0.932346  \n",
       "4  0.116123  "
      ]
     },
     "execution_count": 5,
     "metadata": {},
     "output_type": "execute_result"
    }
   ],
   "source": [
    "one_hot_encoding = pd.get_dummies(star_classification[\"class\"], prefix='class')\n",
    "star_classification = star_classification.drop(columns=['class'])\n",
    "star_classification.head()"
   ]
  },
  {
   "cell_type": "markdown",
   "id": "d3f572f4",
   "metadata": {},
   "source": [
    "Normalización de datos"
   ]
  },
  {
   "cell_type": "code",
   "execution_count": 6,
   "id": "caed5c2a",
   "metadata": {},
   "outputs": [
    {
     "data": {
      "text/html": [
       "<div>\n",
       "<style scoped>\n",
       "    .dataframe tbody tr th:only-of-type {\n",
       "        vertical-align: middle;\n",
       "    }\n",
       "\n",
       "    .dataframe tbody tr th {\n",
       "        vertical-align: top;\n",
       "    }\n",
       "\n",
       "    .dataframe thead th {\n",
       "        text-align: right;\n",
       "    }\n",
       "</style>\n",
       "<table border=\"1\" class=\"dataframe\">\n",
       "  <thead>\n",
       "    <tr style=\"text-align: right;\">\n",
       "      <th></th>\n",
       "      <th>alpha</th>\n",
       "      <th>delta</th>\n",
       "      <th>u</th>\n",
       "      <th>g</th>\n",
       "      <th>r</th>\n",
       "      <th>i</th>\n",
       "      <th>z</th>\n",
       "      <th>redshift</th>\n",
       "      <th>class_GALAXY</th>\n",
       "      <th>class_QSO</th>\n",
       "      <th>class_STAR</th>\n",
       "    </tr>\n",
       "  </thead>\n",
       "  <tbody>\n",
       "    <tr>\n",
       "      <th>0</th>\n",
       "      <td>-0.434604</td>\n",
       "      <td>0.425529</td>\n",
       "      <td>0.059755</td>\n",
       "      <td>0.054926</td>\n",
       "      <td>0.403962</td>\n",
       "      <td>0.046007</td>\n",
       "      <td>0.003937</td>\n",
       "      <td>0.079557</td>\n",
       "      <td>1</td>\n",
       "      <td>0</td>\n",
       "      <td>0</td>\n",
       "    </tr>\n",
       "    <tr>\n",
       "      <th>1</th>\n",
       "      <td>-0.339921</td>\n",
       "      <td>0.363402</td>\n",
       "      <td>0.088045</td>\n",
       "      <td>0.072456</td>\n",
       "      <td>1.584406</td>\n",
       "      <td>1.185097</td>\n",
       "      <td>0.092835</td>\n",
       "      <td>0.277096</td>\n",
       "      <td>1</td>\n",
       "      <td>0</td>\n",
       "      <td>0</td>\n",
       "    </tr>\n",
       "    <tr>\n",
       "      <th>2</th>\n",
       "      <td>-0.367251</td>\n",
       "      <td>0.582713</td>\n",
       "      <td>0.103327</td>\n",
       "      <td>0.067165</td>\n",
       "      <td>0.519745</td>\n",
       "      <td>0.150019</td>\n",
       "      <td>0.008808</td>\n",
       "      <td>0.092423</td>\n",
       "      <td>1</td>\n",
       "      <td>0</td>\n",
       "      <td>0</td>\n",
       "    </tr>\n",
       "    <tr>\n",
       "      <th>3</th>\n",
       "      <td>1.669523</td>\n",
       "      <td>-1.249105</td>\n",
       "      <td>0.004921</td>\n",
       "      <td>0.102210</td>\n",
       "      <td>1.059904</td>\n",
       "      <td>0.807610</td>\n",
       "      <td>0.018321</td>\n",
       "      <td>0.486770</td>\n",
       "      <td>1</td>\n",
       "      <td>0</td>\n",
       "      <td>0</td>\n",
       "    </tr>\n",
       "    <tr>\n",
       "      <th>4</th>\n",
       "      <td>1.737310</td>\n",
       "      <td>-0.150242</td>\n",
       "      <td>-0.080055</td>\n",
       "      <td>-0.092948</td>\n",
       "      <td>-1.697421</td>\n",
       "      <td>-1.767887</td>\n",
       "      <td>-0.098468</td>\n",
       "      <td>-0.630267</td>\n",
       "      <td>1</td>\n",
       "      <td>0</td>\n",
       "      <td>0</td>\n",
       "    </tr>\n",
       "  </tbody>\n",
       "</table>\n",
       "</div>"
      ],
      "text/plain": [
       "      alpha     delta         u         g         r         i         z  \\\n",
       "0 -0.434604  0.425529  0.059755  0.054926  0.403962  0.046007  0.003937   \n",
       "1 -0.339921  0.363402  0.088045  0.072456  1.584406  1.185097  0.092835   \n",
       "2 -0.367251  0.582713  0.103327  0.067165  0.519745  0.150019  0.008808   \n",
       "3  1.669523 -1.249105  0.004921  0.102210  1.059904  0.807610  0.018321   \n",
       "4  1.737310 -0.150242 -0.080055 -0.092948 -1.697421 -1.767887 -0.098468   \n",
       "\n",
       "   redshift  class_GALAXY  class_QSO  class_STAR  \n",
       "0  0.079557             1          0           0  \n",
       "1  0.277096             1          0           0  \n",
       "2  0.092423             1          0           0  \n",
       "3  0.486770             1          0           0  \n",
       "4 -0.630267             1          0           0  "
      ]
     },
     "execution_count": 6,
     "metadata": {},
     "output_type": "execute_result"
    }
   ],
   "source": [
    "mean = np.mean(star_classification, axis=0)\n",
    "std = np.std(star_classification, axis=0)\n",
    "star_classification = (star_classification - mean) / std\n",
    "star_classification = pd.concat([star_classification, one_hot_encoding], axis=1)\n",
    "star_classification.head()"
   ]
  },
  {
   "cell_type": "markdown",
   "id": "94dde6d6",
   "metadata": {},
   "source": [
    "Verificación de valores nulos"
   ]
  },
  {
   "cell_type": "code",
   "execution_count": 7,
   "id": "b8ef7ce8",
   "metadata": {},
   "outputs": [
    {
     "data": {
      "text/plain": [
       "alpha           0\n",
       "delta           0\n",
       "u               0\n",
       "g               0\n",
       "r               0\n",
       "i               0\n",
       "z               0\n",
       "redshift        0\n",
       "class_GALAXY    0\n",
       "class_QSO       0\n",
       "class_STAR      0\n",
       "dtype: int64"
      ]
     },
     "execution_count": 7,
     "metadata": {},
     "output_type": "execute_result"
    }
   ],
   "source": [
    "star_classification.isna().sum(axis=0)"
   ]
  },
  {
   "cell_type": "markdown",
   "id": "b1093c87",
   "metadata": {},
   "source": [
    "# Datos de entrenamiento y pruebas"
   ]
  },
  {
   "cell_type": "markdown",
   "id": "f7fa5752",
   "metadata": {},
   "source": [
    "Separación de datos para entrenamiento y validación"
   ]
  },
  {
   "cell_type": "code",
   "execution_count": 8,
   "id": "f645de9b",
   "metadata": {},
   "outputs": [],
   "source": [
    "X_train_model, X_validation, y_train_model, y_validation = train_test_split(\n",
    "    star_classification[[\"alpha\", \"delta\", \"u\", \"g\", \"r\", \"i\", \"z\", \"redshift\"]], \n",
    "    star_classification[[\"class_GALAXY\", \"class_QSO\", \"class_STAR\"]],\n",
    "    test_size=0.8, random_state=2022)"
   ]
  },
  {
   "cell_type": "markdown",
   "id": "4beeb074",
   "metadata": {},
   "source": [
    "Separación de datos para entrenamiento"
   ]
  },
  {
   "cell_type": "code",
   "execution_count": 9,
   "id": "2e8b3308",
   "metadata": {},
   "outputs": [],
   "source": [
    "X_train, X_test, y_train, y_test = train_test_split(\n",
    "    X_train_model, \n",
    "    y_train_model, \n",
    "    test_size=0.8, random_state=2022)"
   ]
  },
  {
   "cell_type": "markdown",
   "id": "2ee7c7e1",
   "metadata": {},
   "source": [
    "# Modelo Keras"
   ]
  },
  {
   "cell_type": "markdown",
   "id": "2002f853",
   "metadata": {},
   "source": [
    "## Optimizador"
   ]
  },
  {
   "cell_type": "code",
   "execution_count": 10,
   "id": "da02f2c0",
   "metadata": {},
   "outputs": [],
   "source": [
    "adagrad = Adagrad( learning_rate=0.01,\n",
    "    initial_accumulator_value=0.1,\n",
    "    epsilon=1e-07,\n",
    "    name=\"Adagrad\"\n",
    ")"
   ]
  },
  {
   "cell_type": "markdown",
   "id": "0cedc329",
   "metadata": {},
   "source": [
    "## Custom callback"
   ]
  },
  {
   "cell_type": "code",
   "execution_count": 11,
   "id": "74258b6e",
   "metadata": {},
   "outputs": [],
   "source": [
    "class custom_callback(Callback):\n",
    "    def __init__(self):\n",
    "        self.f1score = 0\n",
    "    \n",
    "    def get_f1score(self):\n",
    "        return self.f1score\n",
    "    \n",
    "    def set_f1score(self, recall, precision):\n",
    "        denominador = recall + precision\n",
    "        if( denominador == 0):\n",
    "            self.f1score = 0\n",
    "        else:\n",
    "            self.f1score = (2*(recall * precision) / denominador)\n",
    "    \n",
    "    def on_epoch_end(self, batch, logs=None):\n",
    "        recall = logs.get('recall')\n",
    "        accuracy = logs.get('accuracy')\n",
    "        precision = logs.get('precision')\n",
    "        self.set_f1score(recall, precision)"
   ]
  },
  {
   "cell_type": "markdown",
   "id": "bafc8291",
   "metadata": {},
   "source": [
    "## Modelo secuencial con sigmoid"
   ]
  },
  {
   "cell_type": "code",
   "execution_count": 15,
   "id": "f9c169cb",
   "metadata": {},
   "outputs": [
    {
     "data": {
      "application/vnd.jupyter.widget-view+json": {
       "model_id": "31f5a480c2fe47169ee54cd05610f824",
       "version_major": 2,
       "version_minor": 0
      },
      "text/plain": [
       "0epoch [00:00, ?epoch/s]"
      ]
     },
     "metadata": {},
     "output_type": "display_data"
    },
    {
     "data": {
      "application/vnd.jupyter.widget-view+json": {
       "model_id": "",
       "version_major": 2,
       "version_minor": 0
      },
      "text/plain": [
       "0batch [00:00, ?batch/s]"
      ]
     },
     "metadata": {},
     "output_type": "display_data"
    },
    {
     "name": "stdout",
     "output_type": "stream",
     "text": [
      "F1-Score 0.5499865097066087\n"
     ]
    }
   ],
   "source": [
    "model_sigmoid = Sequential()\n",
    "model_sigmoid.add(Dense(4, input_shape=(8,), activation=\"sigmoid\", kernel_initializer=GlorotNormal()))\n",
    "model_sigmoid.add(Dropout(0.1, input_shape=(8,)))\n",
    "model_sigmoid.add(Dense(8, activation=\"sigmoid\"))\n",
    "model_sigmoid.add(Dropout(0.1, input_shape=(6,)))\n",
    "model_sigmoid.add(Dense(6, activation=\"sigmoid\"))\n",
    "model_sigmoid.add(Dropout(0.1, input_shape=(3,)))\n",
    "model_sigmoid.add(Dense(3, activation=\"softmax\"))\n",
    "\n",
    "# train the model using SGD\n",
    "callbacks_sigmoid = custom_callback()\n",
    "model_sigmoid.compile(\n",
    "    loss=\"categorical_crossentropy\", \n",
    "    optimizer=adagrad, \n",
    "    metrics=[Recall(name=\"recall\"), BinaryAccuracy(name=\"accuracy\"), Precision(name=\"precision\")])\n",
    "\n",
    "modelo_prediccion_sigmoid = model_sigmoid.fit(\n",
    "    X_train, \n",
    "    y_train, \n",
    "    validation_data=(X_test, y_test), \n",
    "    epochs=20,\n",
    "    batch_size=128, \n",
    "    verbose=0, \n",
    "    callbacks=[callbacks_sigmoid, TqdmCallback(verbose=1)])\n",
    "\n",
    "print(\"F1-Score\", callbacks_sigmoid.get_f1score())"
   ]
  },
  {
   "cell_type": "markdown",
   "id": "e05fabb2",
   "metadata": {},
   "source": [
    "## Modelo secuencial con relu"
   ]
  },
  {
   "cell_type": "code",
   "execution_count": 16,
   "id": "149e9db7",
   "metadata": {},
   "outputs": [
    {
     "name": "stdout",
     "output_type": "stream",
     "text": [
      "[INFO] training network...\n"
     ]
    },
    {
     "data": {
      "application/vnd.jupyter.widget-view+json": {
       "model_id": "5609e5a1511343b088b6b15275a83c70",
       "version_major": 2,
       "version_minor": 0
      },
      "text/plain": [
       "0epoch [00:00, ?epoch/s]"
      ]
     },
     "metadata": {},
     "output_type": "display_data"
    },
    {
     "data": {
      "application/vnd.jupyter.widget-view+json": {
       "model_id": "",
       "version_major": 2,
       "version_minor": 0
      },
      "text/plain": [
       "0batch [00:00, ?batch/s]"
      ]
     },
     "metadata": {},
     "output_type": "display_data"
    },
    {
     "name": "stdout",
     "output_type": "stream",
     "text": [
      "F1-Score 0.5614035183155163\n"
     ]
    }
   ],
   "source": [
    "model_relu = Sequential()\n",
    "model_relu.add(Dense(4, input_shape=(8,), activation=\"relu\", kernel_initializer=GlorotNormal()))\n",
    "model_relu.add(Dropout(0.1, input_shape=(8,)))\n",
    "model_relu.add(Dense(8, activation=\"relu\"))\n",
    "model_relu.add(Dropout(0.1, input_shape=(6,)))\n",
    "model_relu.add(Dense(6, activation=\"relu\"))\n",
    "model_relu.add(Dropout(0.1, input_shape=(3,)))\n",
    "model_relu.add(Dense(3, activation=\"softmax\"))\n",
    "\n",
    "# train the model using SGD\n",
    "print(\"[INFO] training network...\")\n",
    "callbacks_relu = custom_callback()\n",
    "model_relu.compile(\n",
    "    loss=\"categorical_crossentropy\", \n",
    "    optimizer=adagrad, \n",
    "    metrics=[Recall(name=\"recall\"), BinaryAccuracy(name=\"accuracy\"), Precision(name=\"precision\")])\n",
    "\n",
    "modelo_prediccion_relu = model_sigmoid.fit(\n",
    "    X_train, \n",
    "    y_train, \n",
    "    validation_data=(X_test, y_test), \n",
    "    epochs=20,\n",
    "    batch_size=128, \n",
    "    verbose=0, \n",
    "    callbacks=[callbacks_relu, TqdmCallback(verbose=1)])\n",
    "\n",
    "print(\"F1-Score\", callbacks_relu.get_f1score())"
   ]
  },
  {
   "cell_type": "markdown",
   "id": "ab1d7bd9",
   "metadata": {},
   "source": [
    "## Modelo secuencial con Leaky Relu"
   ]
  },
  {
   "cell_type": "code",
   "execution_count": 17,
   "id": "8ab6418b",
   "metadata": {},
   "outputs": [
    {
     "name": "stdout",
     "output_type": "stream",
     "text": [
      "[INFO] training network...\n"
     ]
    },
    {
     "data": {
      "application/vnd.jupyter.widget-view+json": {
       "model_id": "ebc78e2fddae47a6ad49d23061e9945f",
       "version_major": 2,
       "version_minor": 0
      },
      "text/plain": [
       "0epoch [00:00, ?epoch/s]"
      ]
     },
     "metadata": {},
     "output_type": "display_data"
    },
    {
     "data": {
      "application/vnd.jupyter.widget-view+json": {
       "model_id": "",
       "version_major": 2,
       "version_minor": 0
      },
      "text/plain": [
       "0batch [00:00, ?batch/s]"
      ]
     },
     "metadata": {},
     "output_type": "display_data"
    },
    {
     "name": "stdout",
     "output_type": "stream",
     "text": [
      "F1-Score 0.5597768432238618\n"
     ]
    }
   ],
   "source": [
    "model_leakyrelu = Sequential()\n",
    "model_leakyrelu.add(Dense(4, input_shape=(8,), activation=LeakyReLU(alpha=0.01), kernel_initializer=GlorotNormal()))\n",
    "model_leakyrelu.add(Dropout(0.1, input_shape=(8,)))\n",
    "model_leakyrelu.add(Dense(8, activation=LeakyReLU(alpha=0.01)))\n",
    "model_leakyrelu.add(Dropout(0.1, input_shape=(6,)))\n",
    "model_leakyrelu.add(Dense(6, activation=LeakyReLU(alpha=0.01)))\n",
    "model_leakyrelu.add(Dropout(0.1, input_shape=(3,)))\n",
    "model_leakyrelu.add(Dense(3, activation=\"softmax\"))\n",
    "\n",
    "# train the model using SGD\n",
    "print(\"[INFO] training network...\")\n",
    "callbacks_leakyrelu = custom_callback()\n",
    "model_leakyrelu.compile(\n",
    "    loss=\"categorical_crossentropy\", \n",
    "    optimizer=adagrad, \n",
    "    metrics=[Recall(name=\"recall\"), BinaryAccuracy(name=\"accuracy\"), Precision(name=\"precision\")])\n",
    "\n",
    "modelo_prediccion_leakyrelu = model_sigmoid.fit(\n",
    "    X_train, \n",
    "    y_train, \n",
    "    validation_data=(X_test, y_test), \n",
    "    epochs=20,\n",
    "    batch_size=128, \n",
    "    verbose=0, \n",
    "    callbacks=[callbacks_leakyrelu, TqdmCallback(verbose=1)])\n",
    "\n",
    "print(\"F1-Score\", callbacks_leakyrelu.get_f1score())"
   ]
  }
 ],
 "metadata": {
  "kernelspec": {
   "display_name": "Python 3 (ipykernel)",
   "language": "python",
   "name": "python3"
  },
  "language_info": {
   "codemirror_mode": {
    "name": "ipython",
    "version": 3
   },
   "file_extension": ".py",
   "mimetype": "text/x-python",
   "name": "python",
   "nbconvert_exporter": "python",
   "pygments_lexer": "ipython3",
   "version": "3.9.12"
  }
 },
 "nbformat": 4,
 "nbformat_minor": 5
}
